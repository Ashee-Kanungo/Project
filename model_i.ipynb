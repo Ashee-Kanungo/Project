{
 "cells": [
  {
   "cell_type": "code",
   "execution_count": null,
   "id": "e52b2745-daec-4d60-a892-5c5869c90731",
   "metadata": {},
   "outputs": [],
   "source": []
  },
  {
   "cell_type": "markdown",
   "id": "c69b6454-0363-437a-b99e-95de51db2960",
   "metadata": {},
   "source": [
    "## Library"
   ]
  },
  {
   "cell_type": "code",
   "execution_count": 44,
   "id": "13b9c358-c617-414c-b0ef-b30d6c433267",
   "metadata": {},
   "outputs": [],
   "source": [
    "import warnings\n",
    "warnings.filterwarnings('ignore')"
   ]
  },
  {
   "cell_type": "code",
   "execution_count": 45,
   "id": "80f613c4-f42b-4e30-9b67-7cfa22f89484",
   "metadata": {},
   "outputs": [],
   "source": [
    "import pandas as pd\n",
    "import numpy as np"
   ]
  },
  {
   "cell_type": "code",
   "execution_count": 46,
   "id": "11332525-629c-483d-9347-1d8fff8a6905",
   "metadata": {},
   "outputs": [],
   "source": [
    "from sklearn.ensemble import RandomForestRegressor\n",
    "#from sklearn.neighbors import NearestNeighbors"
   ]
  },
  {
   "cell_type": "code",
   "execution_count": 47,
   "id": "f99e11ea-3d51-4673-b33e-cb01d685b21c",
   "metadata": {},
   "outputs": [],
   "source": [
    "from sklearn.ensemble import RandomForestClassifier"
   ]
  },
  {
   "cell_type": "code",
   "execution_count": 48,
   "id": "039bffe1-2ff2-444a-953f-0e8f3680778c",
   "metadata": {},
   "outputs": [],
   "source": [
    "from sklearn.metrics import confusion_matrix, ConfusionMatrixDisplay"
   ]
  },
  {
   "cell_type": "code",
   "execution_count": 49,
   "id": "7805cf70-d6d7-4309-a1be-b7dc69cfe71b",
   "metadata": {},
   "outputs": [],
   "source": [
    "from sklearn.metrics import accuracy_score, f1_score, precision_score, recall_score"
   ]
  },
  {
   "cell_type": "code",
   "execution_count": 50,
   "id": "abc7881e-64fb-44b2-99bf-bc822f32e222",
   "metadata": {},
   "outputs": [],
   "source": [
    "from sklearn.metrics import r2_score"
   ]
  },
  {
   "cell_type": "code",
   "execution_count": 51,
   "id": "6a3b5f77-129c-4c32-8115-b8e8f7c125bd",
   "metadata": {},
   "outputs": [],
   "source": [
    "from sklearn.metrics import mean_squared_error"
   ]
  },
  {
   "cell_type": "code",
   "execution_count": 52,
   "id": "3434ad58-a487-4cbf-9fc9-8e55a3705182",
   "metadata": {},
   "outputs": [],
   "source": [
    "import statsmodels.api as sm"
   ]
  },
  {
   "cell_type": "code",
   "execution_count": 53,
   "id": "1996ccc8-5102-4a00-b11e-bc6b1033f29f",
   "metadata": {},
   "outputs": [],
   "source": [
    "from sklearn.model_selection import RandomizedSearchCV"
   ]
  },
  {
   "cell_type": "code",
   "execution_count": 54,
   "id": "55f84726-cbe5-46fc-bd11-5d6d19f5aaa3",
   "metadata": {},
   "outputs": [],
   "source": [
    "from sklearn.model_selection import GridSearchCV"
   ]
  },
  {
   "cell_type": "code",
   "execution_count": 55,
   "id": "df87f8e2-dfac-4d68-9732-7ed64d1064d3",
   "metadata": {},
   "outputs": [],
   "source": [
    "from pprint import pprint"
   ]
  },
  {
   "cell_type": "code",
   "execution_count": 1,
   "id": "abe578ac-5020-45ef-93ee-8a9e94ef7e2a",
   "metadata": {},
   "outputs": [
    {
     "name": "stdout",
     "output_type": "stream",
     "text": [
      "C:\\Users\\ashut\\Desktop\\BTP\\website_flask\n"
     ]
    }
   ],
   "source": [
    "!cd"
   ]
  },
  {
   "cell_type": "code",
   "execution_count": 2,
   "id": "ec9f2a80-c789-4f10-a32b-b7eed36fe43a",
   "metadata": {},
   "outputs": [
    {
     "name": "stdout",
     "output_type": "stream",
     "text": [
      "C:\\Users\\ashut\\Desktop\\BTP\n"
     ]
    }
   ],
   "source": [
    "cd\\Users\\ashut\\Desktop\\BTP"
   ]
  },
  {
   "cell_type": "code",
   "execution_count": 3,
   "id": "69edc341-8186-4c1b-943e-c4318aaf75cc",
   "metadata": {},
   "outputs": [
    {
     "name": "stdout",
     "output_type": "stream",
     "text": [
      "C:\\Users\\ashut\n"
     ]
    }
   ],
   "source": [
    "%cd "
   ]
  },
  {
   "cell_type": "code",
   "execution_count": null,
   "id": "42d33614-37dc-4684-9be8-f2ae22323f77",
   "metadata": {},
   "outputs": [],
   "source": []
  },
  {
   "cell_type": "markdown",
   "id": "036b4148-af6d-4a90-b128-17a39aac4a04",
   "metadata": {},
   "source": [
    "---------\n",
    "## Data"
   ]
  },
  {
   "cell_type": "markdown",
   "id": "caa283b4-d21a-4cf3-b67b-52961573841f",
   "metadata": {},
   "source": [
    "#### Train, Test Data"
   ]
  },
  {
   "cell_type": "code",
   "execution_count": 56,
   "id": "7782733d-0ba6-48ac-aa56-20b011d7c460",
   "metadata": {},
   "outputs": [],
   "source": [
    "trdf=pd.read_csv(r'C:\\Users\\ashut\\Desktop\\BTP\\website_flask\\03_Train_Data.csv', index_col=0)"
   ]
  },
  {
   "cell_type": "code",
   "execution_count": 57,
   "id": "fb876c75-37c6-4292-883e-b9b32517ba88",
   "metadata": {},
   "outputs": [],
   "source": [
    "tedf = pd.read_csv(r'C:\\Users\\ashut\\Desktop\\BTP\\website_flask\\03_Test_Data.csv', index_col=0)"
   ]
  },
  {
   "cell_type": "code",
   "execution_count": 58,
   "id": "cb78089e-005f-4579-af86-e92e0f730d17",
   "metadata": {},
   "outputs": [],
   "source": [
    "trdf.set_index('Lateral_ID (i)', inplace = True)"
   ]
  },
  {
   "cell_type": "code",
   "execution_count": 59,
   "id": "08369a74-9af1-4d80-9f56-d4e061f58cf7",
   "metadata": {},
   "outputs": [],
   "source": [
    "tedf.set_index('Lateral_ID (i)', inplace = True)"
   ]
  },
  {
   "cell_type": "code",
   "execution_count": 60,
   "id": "000a8cf0-e7ee-48da-a854-55bf5dfe1fcc",
   "metadata": {},
   "outputs": [],
   "source": [
    "trdf.sort_index(inplace = True)"
   ]
  },
  {
   "cell_type": "code",
   "execution_count": 61,
   "id": "058a9bc6-d718-488c-9c9d-a6e1b542ec63",
   "metadata": {},
   "outputs": [],
   "source": [
    "tedf.sort_index(inplace = True)"
   ]
  },
  {
   "cell_type": "code",
   "execution_count": 62,
   "id": "f527f629-0612-413d-8099-4a23f57b3dbf",
   "metadata": {},
   "outputs": [
    {
     "data": {
      "text/html": [
       "<div>\n",
       "<style scoped>\n",
       "    .dataframe tbody tr th:only-of-type {\n",
       "        vertical-align: middle;\n",
       "    }\n",
       "\n",
       "    .dataframe tbody tr th {\n",
       "        vertical-align: top;\n",
       "    }\n",
       "\n",
       "    .dataframe thead th {\n",
       "        text-align: right;\n",
       "    }\n",
       "</style>\n",
       "<table border=\"1\" class=\"dataframe\">\n",
       "  <thead>\n",
       "    <tr style=\"text-align: right;\">\n",
       "      <th></th>\n",
       "      <th>~y(1)(i)</th>\n",
       "      <th>~y(2)(i)</th>\n",
       "      <th>~y(3)(i)</th>\n",
       "      <th>~y(4)(i)</th>\n",
       "      <th>N(i)</th>\n",
       "      <th>Lateral Anomaly Status x(i)</th>\n",
       "      <th>Affected Customers s(i)</th>\n",
       "    </tr>\n",
       "    <tr>\n",
       "      <th>Lateral_ID (i)</th>\n",
       "      <th></th>\n",
       "      <th></th>\n",
       "      <th></th>\n",
       "      <th></th>\n",
       "      <th></th>\n",
       "      <th></th>\n",
       "      <th></th>\n",
       "    </tr>\n",
       "  </thead>\n",
       "  <tbody>\n",
       "    <tr>\n",
       "      <th>1</th>\n",
       "      <td>0</td>\n",
       "      <td>0</td>\n",
       "      <td>0</td>\n",
       "      <td>1</td>\n",
       "      <td>3</td>\n",
       "      <td>1</td>\n",
       "      <td>0.666667</td>\n",
       "    </tr>\n",
       "    <tr>\n",
       "      <th>2</th>\n",
       "      <td>0</td>\n",
       "      <td>14</td>\n",
       "      <td>0</td>\n",
       "      <td>56</td>\n",
       "      <td>40</td>\n",
       "      <td>2</td>\n",
       "      <td>0.650000</td>\n",
       "    </tr>\n",
       "    <tr>\n",
       "      <th>3</th>\n",
       "      <td>0</td>\n",
       "      <td>0</td>\n",
       "      <td>0</td>\n",
       "      <td>0</td>\n",
       "      <td>16</td>\n",
       "      <td>0</td>\n",
       "      <td>0.000000</td>\n",
       "    </tr>\n",
       "    <tr>\n",
       "      <th>4</th>\n",
       "      <td>0</td>\n",
       "      <td>0</td>\n",
       "      <td>4</td>\n",
       "      <td>8</td>\n",
       "      <td>19</td>\n",
       "      <td>1</td>\n",
       "      <td>0.631579</td>\n",
       "    </tr>\n",
       "    <tr>\n",
       "      <th>5</th>\n",
       "      <td>0</td>\n",
       "      <td>0</td>\n",
       "      <td>0</td>\n",
       "      <td>0</td>\n",
       "      <td>8</td>\n",
       "      <td>0</td>\n",
       "      <td>0.000000</td>\n",
       "    </tr>\n",
       "    <tr>\n",
       "      <th>...</th>\n",
       "      <td>...</td>\n",
       "      <td>...</td>\n",
       "      <td>...</td>\n",
       "      <td>...</td>\n",
       "      <td>...</td>\n",
       "      <td>...</td>\n",
       "      <td>...</td>\n",
       "    </tr>\n",
       "    <tr>\n",
       "      <th>2496</th>\n",
       "      <td>0</td>\n",
       "      <td>0</td>\n",
       "      <td>0</td>\n",
       "      <td>0</td>\n",
       "      <td>9</td>\n",
       "      <td>0</td>\n",
       "      <td>0.000000</td>\n",
       "    </tr>\n",
       "    <tr>\n",
       "      <th>2497</th>\n",
       "      <td>0</td>\n",
       "      <td>14</td>\n",
       "      <td>32</td>\n",
       "      <td>52</td>\n",
       "      <td>33</td>\n",
       "      <td>2</td>\n",
       "      <td>0.818182</td>\n",
       "    </tr>\n",
       "    <tr>\n",
       "      <th>2498</th>\n",
       "      <td>0</td>\n",
       "      <td>0</td>\n",
       "      <td>7</td>\n",
       "      <td>17</td>\n",
       "      <td>36</td>\n",
       "      <td>1</td>\n",
       "      <td>0.805556</td>\n",
       "    </tr>\n",
       "    <tr>\n",
       "      <th>2499</th>\n",
       "      <td>0</td>\n",
       "      <td>0</td>\n",
       "      <td>0</td>\n",
       "      <td>0</td>\n",
       "      <td>4</td>\n",
       "      <td>0</td>\n",
       "      <td>0.000000</td>\n",
       "    </tr>\n",
       "    <tr>\n",
       "      <th>2500</th>\n",
       "      <td>0</td>\n",
       "      <td>0</td>\n",
       "      <td>0</td>\n",
       "      <td>1</td>\n",
       "      <td>2</td>\n",
       "      <td>1</td>\n",
       "      <td>1.000000</td>\n",
       "    </tr>\n",
       "  </tbody>\n",
       "</table>\n",
       "<p>2000 rows × 7 columns</p>\n",
       "</div>"
      ],
      "text/plain": [
       "                ~y(1)(i)  ~y(2)(i)  ~y(3)(i)  ~y(4)(i)  N(i)  \\\n",
       "Lateral_ID (i)                                                 \n",
       "1                      0         0         0         1     3   \n",
       "2                      0        14         0        56    40   \n",
       "3                      0         0         0         0    16   \n",
       "4                      0         0         4         8    19   \n",
       "5                      0         0         0         0     8   \n",
       "...                  ...       ...       ...       ...   ...   \n",
       "2496                   0         0         0         0     9   \n",
       "2497                   0        14        32        52    33   \n",
       "2498                   0         0         7        17    36   \n",
       "2499                   0         0         0         0     4   \n",
       "2500                   0         0         0         1     2   \n",
       "\n",
       "                Lateral Anomaly Status x(i)  Affected Customers s(i)  \n",
       "Lateral_ID (i)                                                        \n",
       "1                                         1                 0.666667  \n",
       "2                                         2                 0.650000  \n",
       "3                                         0                 0.000000  \n",
       "4                                         1                 0.631579  \n",
       "5                                         0                 0.000000  \n",
       "...                                     ...                      ...  \n",
       "2496                                      0                 0.000000  \n",
       "2497                                      2                 0.818182  \n",
       "2498                                      1                 0.805556  \n",
       "2499                                      0                 0.000000  \n",
       "2500                                      1                 1.000000  \n",
       "\n",
       "[2000 rows x 7 columns]"
      ]
     },
     "execution_count": 62,
     "metadata": {},
     "output_type": "execute_result"
    }
   ],
   "source": [
    "trdf"
   ]
  },
  {
   "cell_type": "code",
   "execution_count": 63,
   "id": "30532e3b-775a-466e-b539-efd9444f77c8",
   "metadata": {},
   "outputs": [
    {
     "data": {
      "text/html": [
       "<div>\n",
       "<style scoped>\n",
       "    .dataframe tbody tr th:only-of-type {\n",
       "        vertical-align: middle;\n",
       "    }\n",
       "\n",
       "    .dataframe tbody tr th {\n",
       "        vertical-align: top;\n",
       "    }\n",
       "\n",
       "    .dataframe thead th {\n",
       "        text-align: right;\n",
       "    }\n",
       "</style>\n",
       "<table border=\"1\" class=\"dataframe\">\n",
       "  <thead>\n",
       "    <tr style=\"text-align: right;\">\n",
       "      <th></th>\n",
       "      <th>~y(1)(i)</th>\n",
       "      <th>~y(2)(i)</th>\n",
       "      <th>~y(3)(i)</th>\n",
       "      <th>~y(4)(i)</th>\n",
       "      <th>N(i)</th>\n",
       "      <th>Lateral Anomaly Status x(i)</th>\n",
       "      <th>Affected Customers s(i)</th>\n",
       "    </tr>\n",
       "    <tr>\n",
       "      <th>Lateral_ID (i)</th>\n",
       "      <th></th>\n",
       "      <th></th>\n",
       "      <th></th>\n",
       "      <th></th>\n",
       "      <th></th>\n",
       "      <th></th>\n",
       "      <th></th>\n",
       "    </tr>\n",
       "  </thead>\n",
       "  <tbody>\n",
       "    <tr>\n",
       "      <th>12</th>\n",
       "      <td>0</td>\n",
       "      <td>0</td>\n",
       "      <td>0</td>\n",
       "      <td>0</td>\n",
       "      <td>42</td>\n",
       "      <td>0</td>\n",
       "      <td>0.000000</td>\n",
       "    </tr>\n",
       "    <tr>\n",
       "      <th>15</th>\n",
       "      <td>0</td>\n",
       "      <td>0</td>\n",
       "      <td>0</td>\n",
       "      <td>0</td>\n",
       "      <td>22</td>\n",
       "      <td>0</td>\n",
       "      <td>0.000000</td>\n",
       "    </tr>\n",
       "    <tr>\n",
       "      <th>24</th>\n",
       "      <td>0</td>\n",
       "      <td>0</td>\n",
       "      <td>0</td>\n",
       "      <td>0</td>\n",
       "      <td>42</td>\n",
       "      <td>0</td>\n",
       "      <td>0.000000</td>\n",
       "    </tr>\n",
       "    <tr>\n",
       "      <th>25</th>\n",
       "      <td>0</td>\n",
       "      <td>4</td>\n",
       "      <td>0</td>\n",
       "      <td>14</td>\n",
       "      <td>12</td>\n",
       "      <td>2</td>\n",
       "      <td>0.500000</td>\n",
       "    </tr>\n",
       "    <tr>\n",
       "      <th>42</th>\n",
       "      <td>0</td>\n",
       "      <td>0</td>\n",
       "      <td>0</td>\n",
       "      <td>0</td>\n",
       "      <td>31</td>\n",
       "      <td>0</td>\n",
       "      <td>0.000000</td>\n",
       "    </tr>\n",
       "    <tr>\n",
       "      <th>...</th>\n",
       "      <td>...</td>\n",
       "      <td>...</td>\n",
       "      <td>...</td>\n",
       "      <td>...</td>\n",
       "      <td>...</td>\n",
       "      <td>...</td>\n",
       "      <td>...</td>\n",
       "    </tr>\n",
       "    <tr>\n",
       "      <th>2472</th>\n",
       "      <td>0</td>\n",
       "      <td>21</td>\n",
       "      <td>52</td>\n",
       "      <td>76</td>\n",
       "      <td>49</td>\n",
       "      <td>2</td>\n",
       "      <td>0.938776</td>\n",
       "    </tr>\n",
       "    <tr>\n",
       "      <th>2476</th>\n",
       "      <td>0</td>\n",
       "      <td>0</td>\n",
       "      <td>0</td>\n",
       "      <td>0</td>\n",
       "      <td>7</td>\n",
       "      <td>0</td>\n",
       "      <td>0.000000</td>\n",
       "    </tr>\n",
       "    <tr>\n",
       "      <th>2482</th>\n",
       "      <td>0</td>\n",
       "      <td>17</td>\n",
       "      <td>45</td>\n",
       "      <td>74</td>\n",
       "      <td>44</td>\n",
       "      <td>2</td>\n",
       "      <td>0.795455</td>\n",
       "    </tr>\n",
       "    <tr>\n",
       "      <th>2487</th>\n",
       "      <td>0</td>\n",
       "      <td>1</td>\n",
       "      <td>8</td>\n",
       "      <td>9</td>\n",
       "      <td>5</td>\n",
       "      <td>2</td>\n",
       "      <td>1.000000</td>\n",
       "    </tr>\n",
       "    <tr>\n",
       "      <th>2495</th>\n",
       "      <td>0</td>\n",
       "      <td>0</td>\n",
       "      <td>0</td>\n",
       "      <td>0</td>\n",
       "      <td>1</td>\n",
       "      <td>0</td>\n",
       "      <td>0.000000</td>\n",
       "    </tr>\n",
       "  </tbody>\n",
       "</table>\n",
       "<p>500 rows × 7 columns</p>\n",
       "</div>"
      ],
      "text/plain": [
       "                ~y(1)(i)  ~y(2)(i)  ~y(3)(i)  ~y(4)(i)  N(i)  \\\n",
       "Lateral_ID (i)                                                 \n",
       "12                     0         0         0         0    42   \n",
       "15                     0         0         0         0    22   \n",
       "24                     0         0         0         0    42   \n",
       "25                     0         4         0        14    12   \n",
       "42                     0         0         0         0    31   \n",
       "...                  ...       ...       ...       ...   ...   \n",
       "2472                   0        21        52        76    49   \n",
       "2476                   0         0         0         0     7   \n",
       "2482                   0        17        45        74    44   \n",
       "2487                   0         1         8         9     5   \n",
       "2495                   0         0         0         0     1   \n",
       "\n",
       "                Lateral Anomaly Status x(i)  Affected Customers s(i)  \n",
       "Lateral_ID (i)                                                        \n",
       "12                                        0                 0.000000  \n",
       "15                                        0                 0.000000  \n",
       "24                                        0                 0.000000  \n",
       "25                                        2                 0.500000  \n",
       "42                                        0                 0.000000  \n",
       "...                                     ...                      ...  \n",
       "2472                                      2                 0.938776  \n",
       "2476                                      0                 0.000000  \n",
       "2482                                      2                 0.795455  \n",
       "2487                                      2                 1.000000  \n",
       "2495                                      0                 0.000000  \n",
       "\n",
       "[500 rows x 7 columns]"
      ]
     },
     "execution_count": 63,
     "metadata": {},
     "output_type": "execute_result"
    }
   ],
   "source": [
    "tedf"
   ]
  },
  {
   "cell_type": "code",
   "execution_count": 64,
   "id": "f255e94b-9199-49f1-8645-16ad93ca4acd",
   "metadata": {},
   "outputs": [
    {
     "data": {
      "text/plain": [
       "Index(['~y(1)(i)', '~y(2)(i)', '~y(3)(i)', '~y(4)(i)', 'N(i)',\n",
       "       'Lateral Anomaly Status x(i)', 'Affected Customers s(i)'],\n",
       "      dtype='object')"
      ]
     },
     "execution_count": 64,
     "metadata": {},
     "output_type": "execute_result"
    }
   ],
   "source": [
    "tedf.columns"
   ]
  },
  {
   "cell_type": "code",
   "execution_count": 65,
   "id": "dba0e097-6b85-4bda-803c-8a320b55f28e",
   "metadata": {},
   "outputs": [],
   "source": [
    "X_tr = np.array(trdf[['~y(1)(i)', '~y(2)(i)', '~y(3)(i)', '~y(4)(i)']])"
   ]
  },
  {
   "cell_type": "code",
   "execution_count": 66,
   "id": "15b2b0c8-3178-4975-b9c6-3048a47c379e",
   "metadata": {},
   "outputs": [
    {
     "data": {
      "text/plain": [
       "(2000, 4)"
      ]
     },
     "execution_count": 66,
     "metadata": {},
     "output_type": "execute_result"
    }
   ],
   "source": [
    "X_tr.shape"
   ]
  },
  {
   "cell_type": "code",
   "execution_count": 67,
   "id": "1655c19a-2c68-4dd3-a9cf-f106de3c1e19",
   "metadata": {},
   "outputs": [],
   "source": [
    "y_tr = np.array(trdf[[  'Affected Customers s(i)', 'Lateral Anomaly Status x(i)']])"
   ]
  },
  {
   "cell_type": "code",
   "execution_count": 68,
   "id": "2b172aff-150d-4a49-878f-cf423070b761",
   "metadata": {},
   "outputs": [
    {
     "data": {
      "text/plain": [
       "(2000, 2)"
      ]
     },
     "execution_count": 68,
     "metadata": {},
     "output_type": "execute_result"
    }
   ],
   "source": [
    "y_tr.shape"
   ]
  },
  {
   "cell_type": "code",
   "execution_count": 69,
   "id": "dbcc3225-7f64-46fd-b9b2-9c2271dd7e64",
   "metadata": {},
   "outputs": [],
   "source": [
    "X_te = np.array(tedf[['~y(1)(i)', '~y(2)(i)', '~y(3)(i)', '~y(4)(i)']])"
   ]
  },
  {
   "cell_type": "code",
   "execution_count": 70,
   "id": "5466f303-36a0-4e18-95d8-688ea08f1d03",
   "metadata": {},
   "outputs": [
    {
     "data": {
      "text/plain": [
       "(500, 4)"
      ]
     },
     "execution_count": 70,
     "metadata": {},
     "output_type": "execute_result"
    }
   ],
   "source": [
    "X_te.shape"
   ]
  },
  {
   "cell_type": "code",
   "execution_count": 71,
   "id": "6795fb86-6a52-4853-8560-e3500a5d8a32",
   "metadata": {},
   "outputs": [],
   "source": [
    "y_te = np.array(tedf[['Affected Customers s(i)', 'Lateral Anomaly Status x(i)']])"
   ]
  },
  {
   "cell_type": "code",
   "execution_count": 72,
   "id": "ee7e5d40-c9c5-40c8-971e-13e7c87b5945",
   "metadata": {},
   "outputs": [
    {
     "data": {
      "text/plain": [
       "(500, 2)"
      ]
     },
     "execution_count": 72,
     "metadata": {},
     "output_type": "execute_result"
    }
   ],
   "source": [
    "y_te.shape"
   ]
  },
  {
   "cell_type": "code",
   "execution_count": null,
   "id": "e75d4c6a-18cb-40f5-8444-5239fb88b85e",
   "metadata": {},
   "outputs": [],
   "source": []
  },
  {
   "cell_type": "code",
   "execution_count": 73,
   "id": "b50c1585-de74-4580-a094-a98e5ef8920e",
   "metadata": {},
   "outputs": [
    {
     "name": "stdout",
     "output_type": "stream",
     "text": [
      "{'n_estimators': [200, 400, 600, 800, 1000, 1200, 1400, 1600, 1800, 2000], 'max_features': ['auto', 'sqrt'], 'max_depth': [10, 20, 30, 40, 50, 60, 70, 80, 90, 100, 110, None], 'min_samples_split': [2, 5, 10], 'min_samples_leaf': [1, 2, 4], 'bootstrap': [True, False]}\n"
     ]
    }
   ],
   "source": [
    "# Number of trees in random forest\n",
    "n_estimators = [int(x) for x in np.linspace(start = 200, stop = 2000, num = 10)]\n",
    "# Number of features to consider at every split\n",
    "max_features = ['auto', 'sqrt']\n",
    "# Maximum number of levels in tree\n",
    "max_depth = [int(x) for x in np.linspace(10, 110, num = 11)]\n",
    "max_depth.append(None)\n",
    "# Minimum number of samples required to split a node\n",
    "min_samples_split = [2, 5, 10]\n",
    "# Minimum number of samples required at each leaf node\n",
    "min_samples_leaf = [1, 2, 4]\n",
    "# Method of selecting samples for training each tree\n",
    "bootstrap = [True, False]\n",
    "# Create the random grid\n",
    "random_grid = {'n_estimators': n_estimators,\n",
    "               'max_features': max_features,\n",
    "               'max_depth': max_depth,\n",
    "               'min_samples_split': min_samples_split,\n",
    "               'min_samples_leaf': min_samples_leaf,\n",
    "               'bootstrap': bootstrap}\n",
    "print(random_grid)"
   ]
  },
  {
   "cell_type": "markdown",
   "id": "c2384deb-6fd4-4246-aa7c-539e87ae45b1",
   "metadata": {},
   "source": [
    "--------------\n",
    "--------------\n",
    "## 1) Base Model : RF Regressor\n",
    "- x(i)\n",
    "- s(i)"
   ]
  },
  {
   "cell_type": "code",
   "execution_count": 74,
   "id": "239f7bd8-e167-48e3-adb4-71abde022839",
   "metadata": {},
   "outputs": [],
   "source": [
    "# use an odd number of trees to prevent predictions of 0.5\n",
    "rf = RandomForestRegressor(n_estimators=11)\n"
   ]
  },
  {
   "cell_type": "code",
   "execution_count": 75,
   "id": "ea1e5c87-8f75-4d66-b8f1-98afaa5c7a92",
   "metadata": {},
   "outputs": [
    {
     "data": {
      "text/plain": [
       "RandomForestRegressor(n_estimators=11)"
      ]
     },
     "execution_count": 75,
     "metadata": {},
     "output_type": "execute_result"
    }
   ],
   "source": [
    "rf.fit(X_tr, y_tr)\n"
   ]
  },
  {
   "cell_type": "code",
   "execution_count": 76,
   "id": "547c2d13-8e7a-49fe-9d53-58c86e8ba2f4",
   "metadata": {},
   "outputs": [],
   "source": [
    "y_pred = rf.predict(X_te)"
   ]
  },
  {
   "cell_type": "code",
   "execution_count": 77,
   "id": "4a1df780-9aa7-4d93-b71e-9f48c9266974",
   "metadata": {},
   "outputs": [],
   "source": [
    "\n",
    "\n",
    "# all predictions will be continous so just round the continous ones\n",
    "y_pred[:, 1] = y_pred[:, 1].round()"
   ]
  },
  {
   "cell_type": "markdown",
   "id": "3f2bde1d-83b9-4e5f-a285-7a848c14adf3",
   "metadata": {},
   "source": [
    "## Results:"
   ]
  },
  {
   "cell_type": "code",
   "execution_count": 78,
   "id": "292175be-4703-4cab-be8a-9d76d92a3ce4",
   "metadata": {},
   "outputs": [
    {
     "data": {
      "text/plain": [
       "<sklearn.metrics._plot.confusion_matrix.ConfusionMatrixDisplay at 0x2dff4def4f0>"
      ]
     },
     "execution_count": 78,
     "metadata": {},
     "output_type": "execute_result"
    },
    {
     "data": {
      "image/png": "[encoded data removed]",
      "text/plain": [
       "<Figure size 432x288 with 2 Axes>"
      ]
     },
     "metadata": {
      "needs_background": "light"
     },
     "output_type": "display_data"
    }
   ],
   "source": [
    "cm = confusion_matrix(y_te[:,1], y_pred[:,1], labels=[0,1,2])\n",
    "disp = ConfusionMatrixDisplay(confusion_matrix=cm,\n",
    "                             display_labels=['N', 'L1', 'L2'])\n",
    "disp.plot()"
   ]
  },
  {
   "cell_type": "code",
   "execution_count": 79,
   "id": "5600228a-55ce-415b-9b08-4351f2b19a91",
   "metadata": {},
   "outputs": [
    {
     "data": {
      "text/plain": [
       "0.926"
      ]
     },
     "execution_count": 79,
     "metadata": {},
     "output_type": "execute_result"
    }
   ],
   "source": [
    "accuracy_score(y_te[:,1], y_pred[:,1]) "
   ]
  },
  {
   "cell_type": "code",
   "execution_count": 80,
   "id": "9c597159-5961-45e4-95a0-98b7ae3f5b4b",
   "metadata": {},
   "outputs": [
    {
     "data": {
      "text/plain": [
       "0.9254609090674444"
      ]
     },
     "execution_count": 80,
     "metadata": {},
     "output_type": "execute_result"
    }
   ],
   "source": [
    "f1_score(y_te[:,1], y_pred[:,1], average='weighted') "
   ]
  },
  {
   "cell_type": "code",
   "execution_count": 81,
   "id": "f8f4e9cc-9c21-41ce-81fa-2e7645434d93",
   "metadata": {},
   "outputs": [
    {
     "data": {
      "text/plain": [
       "0.9271498316498317"
      ]
     },
     "execution_count": 81,
     "metadata": {},
     "output_type": "execute_result"
    }
   ],
   "source": [
    "precision_score(y_te[:,1], y_pred[:,1], average='weighted') "
   ]
  },
  {
   "cell_type": "code",
   "execution_count": 82,
   "id": "37367bcd-7a6e-4ecf-ad15-353f2e4d963c",
   "metadata": {},
   "outputs": [
    {
     "data": {
      "text/plain": [
       "0.926"
      ]
     },
     "execution_count": 82,
     "metadata": {},
     "output_type": "execute_result"
    }
   ],
   "source": [
    "recall_score(y_te[:,1], y_pred[:,1], average='weighted') "
   ]
  },
  {
   "cell_type": "code",
   "execution_count": 83,
   "id": "b35b79b1-649d-47cd-a4b3-551fa8b949ec",
   "metadata": {},
   "outputs": [
    {
     "data": {
      "text/plain": [
       "0.6307291573410339"
      ]
     },
     "execution_count": 83,
     "metadata": {},
     "output_type": "execute_result"
    }
   ],
   "source": [
    "r2_score(y_te[:,0], y_pred[:,0])"
   ]
  },
  {
   "cell_type": "code",
   "execution_count": 84,
   "id": "7475c55b-d40c-4270-921b-a9f1db44352e",
   "metadata": {},
   "outputs": [],
   "source": [
    "dfff = pd.DataFrame({\n",
    "    'ID': tedf.index,\n",
    "    'true s(i)': y_te[:,0],\n",
    "    'predicted s(i)': y_pred[:,0],\n",
    "    'true x(i)': y_te[:,1],\n",
    "    'predicted x(i)': y_pred[:,1]\n",
    "})"
   ]
  },
  {
   "cell_type": "code",
   "execution_count": 85,
   "id": "23719d75-30ea-4612-b705-ff41f7fa4f8e",
   "metadata": {},
   "outputs": [],
   "source": [
    "dfff.set_index('ID', inplace = True)"
   ]
  },
  {
   "cell_type": "code",
   "execution_count": 86,
   "id": "e4928439-e2cd-44c5-b7fa-50259942b993",
   "metadata": {},
   "outputs": [
    {
     "data": {
      "text/plain": [
       "array([[<AxesSubplot:title={'center':'true s(i)'}>,\n",
       "        <AxesSubplot:title={'center':'predicted s(i)'}>],\n",
       "       [<AxesSubplot:title={'center':'true x(i)'}>,\n",
       "        <AxesSubplot:title={'center':'predicted x(i)'}>]], dtype=object)"
      ]
     },
     "execution_count": 86,
     "metadata": {},
     "output_type": "execute_result"
    },
    {
     "data": {
      "image/png": "[encoded data removed]",
      "text/plain": [
       "<Figure size 432x288 with 4 Axes>"
      ]
     },
     "metadata": {
      "needs_background": "light"
     },
     "output_type": "display_data"
    }
   ],
   "source": [
    "dfff.hist()"
   ]
  },
  {
   "cell_type": "markdown",
   "id": "b023c39f-cc38-40ca-a8d6-34b578d2d81f",
   "metadata": {},
   "source": [
    "--------------\n",
    "--------------\n",
    "## 2) Model : improving s(i) through x(i) \n",
    "- RF classifier, x(i)\n",
    "- RF regressor, s(i)"
   ]
  },
  {
   "cell_type": "code",
   "execution_count": 87,
   "id": "89100c23-5a5a-4eeb-89b7-e8ac1f33b2fd",
   "metadata": {},
   "outputs": [],
   "source": [
    "rf2 = RandomForestClassifier()"
   ]
  },
  {
   "cell_type": "code",
   "execution_count": 88,
   "id": "05263d96-0c82-4743-9f9a-ce3e630695d0",
   "metadata": {},
   "outputs": [
    {
     "name": "stdout",
     "output_type": "stream",
     "text": [
      "CPU times: total: 297 ms\n",
      "Wall time: 378 ms\n"
     ]
    },
    {
     "data": {
      "text/plain": [
       "RandomForestClassifier()"
      ]
     },
     "execution_count": 88,
     "metadata": {},
     "output_type": "execute_result"
    }
   ],
   "source": [
    "%%time\n",
    "# Fit the random search model\n",
    "rf2.fit(X_tr, y_tr[:,1])"
   ]
  },
  {
   "cell_type": "code",
   "execution_count": 89,
   "id": "2751615d-095d-4c11-9a41-a6f16c490548",
   "metadata": {},
   "outputs": [],
   "source": [
    "y_pred21 = rf2.predict(X_te)"
   ]
  },
  {
   "cell_type": "markdown",
   "id": "f3ac29ff-0fcb-44f2-a0ab-7caee677d706",
   "metadata": {},
   "source": [
    "## Results:"
   ]
  },
  {
   "cell_type": "code",
   "execution_count": 90,
   "id": "737872e0-6e65-4988-a0a2-81321d611f0c",
   "metadata": {},
   "outputs": [
    {
     "data": {
      "text/plain": [
       "<sklearn.metrics._plot.confusion_matrix.ConfusionMatrixDisplay at 0x2dff4da4be0>"
      ]
     },
     "execution_count": 90,
     "metadata": {},
     "output_type": "execute_result"
    },
    {
     "data": {
      "image/png": "[encoded data removed]",
      "text/plain": [
       "<Figure size 432x288 with 2 Axes>"
      ]
     },
     "metadata": {
      "needs_background": "light"
     },
     "output_type": "display_data"
    }
   ],
   "source": [
    "cm = confusion_matrix(y_te[:,1], y_pred21, labels=[0,1,2])\n",
    "disp = ConfusionMatrixDisplay(confusion_matrix=cm,\n",
    "                             display_labels=['N', 'L1', 'L2'])\n",
    "disp.plot()"
   ]
  },
  {
   "cell_type": "code",
   "execution_count": 91,
   "id": "e4fc0cac-c5a2-4f3a-8cc6-bd71021f252a",
   "metadata": {},
   "outputs": [
    {
     "data": {
      "text/plain": [
       "0.932"
      ]
     },
     "execution_count": 91,
     "metadata": {},
     "output_type": "execute_result"
    }
   ],
   "source": [
    "accuracy_score(y_te[:,1], y_pred21) "
   ]
  },
  {
   "cell_type": "code",
   "execution_count": 92,
   "id": "c987a9a3-8280-4a32-8a14-d0036a0a21a3",
   "metadata": {},
   "outputs": [
    {
     "data": {
      "text/plain": [
       "0.9317220999530157"
      ]
     },
     "execution_count": 92,
     "metadata": {},
     "output_type": "execute_result"
    }
   ],
   "source": [
    "f1_score(y_te[:,1], y_pred21, average='weighted') "
   ]
  },
  {
   "cell_type": "code",
   "execution_count": 93,
   "id": "23ea459d-b514-4646-812f-17f6ae288d6f",
   "metadata": {},
   "outputs": [
    {
     "data": {
      "text/plain": [
       "0.9347911151450975"
      ]
     },
     "execution_count": 93,
     "metadata": {},
     "output_type": "execute_result"
    }
   ],
   "source": [
    "precision_score(y_te[:,1], y_pred21, average='weighted') "
   ]
  },
  {
   "cell_type": "code",
   "execution_count": 94,
   "id": "1f6cb639-0867-4295-a1ae-265befac0878",
   "metadata": {},
   "outputs": [
    {
     "data": {
      "text/plain": [
       "0.932"
      ]
     },
     "execution_count": 94,
     "metadata": {},
     "output_type": "execute_result"
    }
   ],
   "source": [
    "recall_score(y_te[:,1], y_pred21, average='weighted') "
   ]
  },
  {
   "cell_type": "markdown",
   "id": "e3500b59-37b7-4d22-9ffc-077dafd3e6d2",
   "metadata": {},
   "source": [
    "#### Training s(i) using original s(i), testing s(i) using predicted s(i)"
   ]
  },
  {
   "cell_type": "code",
   "execution_count": 95,
   "id": "bf06955d-271c-43c3-9df1-67c301e123b0",
   "metadata": {},
   "outputs": [],
   "source": [
    "X_tr2 = np.array(trdf[['~y(1)(i)', '~y(2)(i)', '~y(3)(i)', '~y(4)(i)', 'Lateral Anomaly Status x(i)']])"
   ]
  },
  {
   "cell_type": "code",
   "execution_count": 96,
   "id": "3512e885-6d35-45c5-aaa0-08990f08e4fa",
   "metadata": {},
   "outputs": [],
   "source": [
    "y_tr2 = np.array(trdf['Affected Customers s(i)'])"
   ]
  },
  {
   "cell_type": "code",
   "execution_count": 97,
   "id": "119c02f5-5bc2-4b7f-a2e7-dc96e3578646",
   "metadata": {},
   "outputs": [],
   "source": [
    "y_te2 = np.array(tedf['Affected Customers s(i)'])"
   ]
  },
  {
   "cell_type": "code",
   "execution_count": 98,
   "id": "0585290a-18d6-4a37-b60a-cf4880c76771",
   "metadata": {},
   "outputs": [],
   "source": [
    "X_te2 = tedf[['~y(1)(i)', '~y(2)(i)', '~y(3)(i)', '~y(4)(i)']]"
   ]
  },
  {
   "cell_type": "code",
   "execution_count": 99,
   "id": "e86ce95b-93a2-4c9a-bfdc-82c2115ba455",
   "metadata": {},
   "outputs": [],
   "source": [
    "X_te2['predicted x(i)'] = y_pred21"
   ]
  },
  {
   "cell_type": "code",
   "execution_count": 100,
   "id": "8b56e2bd-d9a0-4c2d-aeeb-ef8f13dec44e",
   "metadata": {},
   "outputs": [],
   "source": [
    "X_te2 = np.array(X_te2)"
   ]
  },
  {
   "cell_type": "code",
   "execution_count": 101,
   "id": "4175587e-9206-4417-92fa-ac35ab8d20f2",
   "metadata": {},
   "outputs": [],
   "source": [
    "# use an odd number of trees to prevent predictions of 0.5\n",
    "rf22 = RandomForestRegressor(n_estimators=11)\n"
   ]
  },
  {
   "cell_type": "code",
   "execution_count": 102,
   "id": "5c77fb0e-4e3a-4afe-8646-3cea87d7fe47",
   "metadata": {},
   "outputs": [
    {
     "data": {
      "text/plain": [
       "RandomForestRegressor(n_estimators=11)"
      ]
     },
     "execution_count": 102,
     "metadata": {},
     "output_type": "execute_result"
    }
   ],
   "source": [
    "rf22.fit(X_tr2, y_tr2)\n"
   ]
  },
  {
   "cell_type": "code",
   "execution_count": 103,
   "id": "7d8380de-05b3-4da6-9c64-e4d09e18c924",
   "metadata": {},
   "outputs": [],
   "source": [
    "y_pred22 = rf22.predict(X_te2)"
   ]
  },
  {
   "cell_type": "code",
   "execution_count": 104,
   "id": "2ca41fae-5295-4171-9bcb-29bbf645ffad",
   "metadata": {},
   "outputs": [
    {
     "data": {
      "text/plain": [
       "0.6370855186071344"
      ]
     },
     "execution_count": 104,
     "metadata": {},
     "output_type": "execute_result"
    }
   ],
   "source": [
    "r2_score(y_te2, y_pred22)"
   ]
  },
  {
   "cell_type": "code",
   "execution_count": 105,
   "id": "e421e143-d7bc-401d-bccf-17ef73e3a2bf",
   "metadata": {},
   "outputs": [],
   "source": [
    "dfff = pd.DataFrame({\n",
    "    'ID': tedf.index,\n",
    "    'true s(i)': y_te2,\n",
    "    'predicted s(i)': y_pred22,\n",
    "})"
   ]
  },
  {
   "cell_type": "code",
   "execution_count": 106,
   "id": "831fd733-8886-4141-aa9d-7dc4308be780",
   "metadata": {},
   "outputs": [],
   "source": [
    "dfff.set_index('ID', inplace = True)"
   ]
  },
  {
   "cell_type": "code",
   "execution_count": 107,
   "id": "eeed1de6-4755-4de4-82d4-cf4e4633b3e1",
   "metadata": {},
   "outputs": [
    {
     "data": {
      "text/plain": [
       "array([[<AxesSubplot:title={'center':'true s(i)'}>,\n",
       "        <AxesSubplot:title={'center':'predicted s(i)'}>]], dtype=object)"
      ]
     },
     "execution_count": 107,
     "metadata": {},
     "output_type": "execute_result"
    },
    {
     "data": {
      "image/png": "[encoded data removed]",
      "text/plain": [
       "<Figure size 432x288 with 2 Axes>"
      ]
     },
     "metadata": {
      "needs_background": "light"
     },
     "output_type": "display_data"
    }
   ],
   "source": [
    "dfff.hist()"
   ]
  },
  {
   "cell_type": "markdown",
   "id": "2600ddeb-3b49-4a44-9f01-086b2b7fbf0d",
   "metadata": {},
   "source": [
    "slightly improved"
   ]
  },
  {
   "cell_type": "markdown",
   "id": "75085074-d2d7-4cb6-88c8-a28aa021bc9e",
   "metadata": {},
   "source": [
    "#### Training s(i) using x(i): with cross validation"
   ]
  },
  {
   "cell_type": "code",
   "execution_count": 108,
   "id": "1e17b222-3391-419f-a6e3-2726f6a470de",
   "metadata": {},
   "outputs": [],
   "source": [
    "# Use the random grid to search for best hyperparameters\n",
    "# First create the base model to tune\n",
    "rf = RandomForestRegressor()\n",
    "# Random search of parameters, using 3 fold cross validation, \n",
    "# search across 100 different combinations, and use all available cores\n",
    "rf_random = RandomizedSearchCV(estimator = rf, param_distributions = random_grid, n_iter = 100, cv = 3, verbose=2, random_state=42, n_jobs = -1)"
   ]
  },
  {
   "cell_type": "code",
   "execution_count": 77,
   "id": "64d0f576-457b-48ba-b334-bb7d5e43c24f",
   "metadata": {},
   "outputs": [
    {
     "name": "stdout",
     "output_type": "stream",
     "text": [
      "Fitting 3 folds for each of 100 candidates, totalling 300 fits\n"
     ]
    },
    {
     "ename": "KeyboardInterrupt",
     "evalue": "",
     "output_type": "error",
     "traceback": [
      "\u001b[1;31m---------------------------------------------------------------------------\u001b[0m",
      "\u001b[1;31mKeyboardInterrupt\u001b[0m                         Traceback (most recent call last)",
      "File \u001b[1;32m<timed eval>:2\u001b[0m, in \u001b[0;36m<module>\u001b[1;34m\u001b[0m\n",
      "File \u001b[1;32mC:\\Python310\\lib\\site-packages\\sklearn\\model_selection\\_search.py:891\u001b[0m, in \u001b[0;36mBaseSearchCV.fit\u001b[1;34m(self, X, y, groups, **fit_params)\u001b[0m\n\u001b[0;32m    <a href='file:///c%3A/Python310/lib/site-packages/sklearn/model_selection/_search.py?line=884'>885</a>\u001b[0m     results \u001b[39m=\u001b[39m \u001b[39mself\u001b[39m\u001b[39m.\u001b[39m_format_results(\n\u001b[0;32m    <a href='file:///c%3A/Python310/lib/site-packages/sklearn/model_selection/_search.py?line=885'>886</a>\u001b[0m         all_candidate_params, n_splits, all_out, all_more_results\n\u001b[0;32m    <a href='file:///c%3A/Python310/lib/site-packages/sklearn/model_selection/_search.py?line=886'>887</a>\u001b[0m     )\n\u001b[0;32m    <a href='file:///c%3A/Python310/lib/site-packages/sklearn/model_selection/_search.py?line=888'>889</a>\u001b[0m     \u001b[39mreturn\u001b[39;00m results\n\u001b[1;32m--> <a href='file:///c%3A/Python310/lib/site-packages/sklearn/model_selection/_search.py?line=890'>891</a>\u001b[0m \u001b[39mself\u001b[39;49m\u001b[39m.\u001b[39;49m_run_search(evaluate_candidates)\n\u001b[0;32m    <a href='file:///c%3A/Python310/lib/site-packages/sklearn/model_selection/_search.py?line=892'>893</a>\u001b[0m \u001b[39m# multimetric is determined here because in the case of a callable\u001b[39;00m\n\u001b[0;32m    <a href='file:///c%3A/Python310/lib/site-packages/sklearn/model_selection/_search.py?line=893'>894</a>\u001b[0m \u001b[39m# self.scoring the return type is only known after calling\u001b[39;00m\n\u001b[0;32m    <a href='file:///c%3A/Python310/lib/site-packages/sklearn/model_selection/_search.py?line=894'>895</a>\u001b[0m first_test_score \u001b[39m=\u001b[39m all_out[\u001b[39m0\u001b[39m][\u001b[39m\"\u001b[39m\u001b[39mtest_scores\u001b[39m\u001b[39m\"\u001b[39m]\n",
      "File \u001b[1;32mC:\\Python310\\lib\\site-packages\\sklearn\\model_selection\\_search.py:1766\u001b[0m, in \u001b[0;36mRandomizedSearchCV._run_search\u001b[1;34m(self, evaluate_candidates)\u001b[0m\n\u001b[0;32m   <a href='file:///c%3A/Python310/lib/site-packages/sklearn/model_selection/_search.py?line=1763'>1764</a>\u001b[0m \u001b[39mdef\u001b[39;00m \u001b[39m_run_search\u001b[39m(\u001b[39mself\u001b[39m, evaluate_candidates):\n\u001b[0;32m   <a href='file:///c%3A/Python310/lib/site-packages/sklearn/model_selection/_search.py?line=1764'>1765</a>\u001b[0m     \u001b[39m\"\"\"Search n_iter candidates from param_distributions\"\"\"\u001b[39;00m\n\u001b[1;32m-> <a href='file:///c%3A/Python310/lib/site-packages/sklearn/model_selection/_search.py?line=1765'>1766</a>\u001b[0m     evaluate_candidates(\n\u001b[0;32m   <a href='file:///c%3A/Python310/lib/site-packages/sklearn/model_selection/_search.py?line=1766'>1767</a>\u001b[0m         ParameterSampler(\n\u001b[0;32m   <a href='file:///c%3A/Python310/lib/site-packages/sklearn/model_selection/_search.py?line=1767'>1768</a>\u001b[0m             \u001b[39mself\u001b[39;49m\u001b[39m.\u001b[39;49mparam_distributions, \u001b[39mself\u001b[39;49m\u001b[39m.\u001b[39;49mn_iter, random_state\u001b[39m=\u001b[39;49m\u001b[39mself\u001b[39;49m\u001b[39m.\u001b[39;49mrandom_state\n\u001b[0;32m   <a href='file:///c%3A/Python310/lib/site-packages/sklearn/model_selection/_search.py?line=1768'>1769</a>\u001b[0m         )\n\u001b[0;32m   <a href='file:///c%3A/Python310/lib/site-packages/sklearn/model_selection/_search.py?line=1769'>1770</a>\u001b[0m     )\n",
      "File \u001b[1;32mC:\\Python310\\lib\\site-packages\\sklearn\\model_selection\\_search.py:838\u001b[0m, in \u001b[0;36mBaseSearchCV.fit.<locals>.evaluate_candidates\u001b[1;34m(candidate_params, cv, more_results)\u001b[0m\n\u001b[0;32m    <a href='file:///c%3A/Python310/lib/site-packages/sklearn/model_selection/_search.py?line=829'>830</a>\u001b[0m \u001b[39mif\u001b[39;00m \u001b[39mself\u001b[39m\u001b[39m.\u001b[39mverbose \u001b[39m>\u001b[39m \u001b[39m0\u001b[39m:\n\u001b[0;32m    <a href='file:///c%3A/Python310/lib/site-packages/sklearn/model_selection/_search.py?line=830'>831</a>\u001b[0m     \u001b[39mprint\u001b[39m(\n\u001b[0;32m    <a href='file:///c%3A/Python310/lib/site-packages/sklearn/model_selection/_search.py?line=831'>832</a>\u001b[0m         \u001b[39m\"\u001b[39m\u001b[39mFitting \u001b[39m\u001b[39m{0}\u001b[39;00m\u001b[39m folds for each of \u001b[39m\u001b[39m{1}\u001b[39;00m\u001b[39m candidates,\u001b[39m\u001b[39m\"\u001b[39m\n\u001b[0;32m    <a href='file:///c%3A/Python310/lib/site-packages/sklearn/model_selection/_search.py?line=832'>833</a>\u001b[0m         \u001b[39m\"\u001b[39m\u001b[39m totalling \u001b[39m\u001b[39m{2}\u001b[39;00m\u001b[39m fits\u001b[39m\u001b[39m\"\u001b[39m\u001b[39m.\u001b[39mformat(\n\u001b[0;32m    <a href='file:///c%3A/Python310/lib/site-packages/sklearn/model_selection/_search.py?line=833'>834</a>\u001b[0m             n_splits, n_candidates, n_candidates \u001b[39m*\u001b[39m n_splits\n\u001b[0;32m    <a href='file:///c%3A/Python310/lib/site-packages/sklearn/model_selection/_search.py?line=834'>835</a>\u001b[0m         )\n\u001b[0;32m    <a href='file:///c%3A/Python310/lib/site-packages/sklearn/model_selection/_search.py?line=835'>836</a>\u001b[0m     )\n\u001b[1;32m--> <a href='file:///c%3A/Python310/lib/site-packages/sklearn/model_selection/_search.py?line=837'>838</a>\u001b[0m out \u001b[39m=\u001b[39m parallel(\n\u001b[0;32m    <a href='file:///c%3A/Python310/lib/site-packages/sklearn/model_selection/_search.py?line=838'>839</a>\u001b[0m     delayed(_fit_and_score)(\n\u001b[0;32m    <a href='file:///c%3A/Python310/lib/site-packages/sklearn/model_selection/_search.py?line=839'>840</a>\u001b[0m         clone(base_estimator),\n\u001b[0;32m    <a href='file:///c%3A/Python310/lib/site-packages/sklearn/model_selection/_search.py?line=840'>841</a>\u001b[0m         X,\n\u001b[0;32m    <a href='file:///c%3A/Python310/lib/site-packages/sklearn/model_selection/_search.py?line=841'>842</a>\u001b[0m         y,\n\u001b[0;32m    <a href='file:///c%3A/Python310/lib/site-packages/sklearn/model_selection/_search.py?line=842'>843</a>\u001b[0m         train\u001b[39m=\u001b[39;49mtrain,\n\u001b[0;32m    <a href='file:///c%3A/Python310/lib/site-packages/sklearn/model_selection/_search.py?line=843'>844</a>\u001b[0m         test\u001b[39m=\u001b[39;49mtest,\n\u001b[0;32m    <a href='file:///c%3A/Python310/lib/site-packages/sklearn/model_selection/_search.py?line=844'>845</a>\u001b[0m         parameters\u001b[39m=\u001b[39;49mparameters,\n\u001b[0;32m    <a href='file:///c%3A/Python310/lib/site-packages/sklearn/model_selection/_search.py?line=845'>846</a>\u001b[0m         split_progress\u001b[39m=\u001b[39;49m(split_idx, n_splits),\n\u001b[0;32m    <a href='file:///c%3A/Python310/lib/site-packages/sklearn/model_selection/_search.py?line=846'>847</a>\u001b[0m         candidate_progress\u001b[39m=\u001b[39;49m(cand_idx, n_candidates),\n\u001b[0;32m    <a href='file:///c%3A/Python310/lib/site-packages/sklearn/model_selection/_search.py?line=847'>848</a>\u001b[0m         \u001b[39m*\u001b[39;49m\u001b[39m*\u001b[39;49mfit_and_score_kwargs,\n\u001b[0;32m    <a href='file:///c%3A/Python310/lib/site-packages/sklearn/model_selection/_search.py?line=848'>849</a>\u001b[0m     )\n\u001b[0;32m    <a href='file:///c%3A/Python310/lib/site-packages/sklearn/model_selection/_search.py?line=849'>850</a>\u001b[0m     \u001b[39mfor\u001b[39;49;00m (cand_idx, parameters), (split_idx, (train, test)) \u001b[39min\u001b[39;49;00m product(\n\u001b[0;32m    <a href='file:///c%3A/Python310/lib/site-packages/sklearn/model_selection/_search.py?line=850'>851</a>\u001b[0m         \u001b[39menumerate\u001b[39;49m(candidate_params), \u001b[39menumerate\u001b[39;49m(cv\u001b[39m.\u001b[39;49msplit(X, y, groups))\n\u001b[0;32m    <a href='file:///c%3A/Python310/lib/site-packages/sklearn/model_selection/_search.py?line=851'>852</a>\u001b[0m     )\n\u001b[0;32m    <a href='file:///c%3A/Python310/lib/site-packages/sklearn/model_selection/_search.py?line=852'>853</a>\u001b[0m )\n\u001b[0;32m    <a href='file:///c%3A/Python310/lib/site-packages/sklearn/model_selection/_search.py?line=854'>855</a>\u001b[0m \u001b[39mif\u001b[39;00m \u001b[39mlen\u001b[39m(out) \u001b[39m<\u001b[39m \u001b[39m1\u001b[39m:\n\u001b[0;32m    <a href='file:///c%3A/Python310/lib/site-packages/sklearn/model_selection/_search.py?line=855'>856</a>\u001b[0m     \u001b[39mraise\u001b[39;00m \u001b[39mValueError\u001b[39;00m(\n\u001b[0;32m    <a href='file:///c%3A/Python310/lib/site-packages/sklearn/model_selection/_search.py?line=856'>857</a>\u001b[0m         \u001b[39m\"\u001b[39m\u001b[39mNo fits were performed. \u001b[39m\u001b[39m\"\u001b[39m\n\u001b[0;32m    <a href='file:///c%3A/Python310/lib/site-packages/sklearn/model_selection/_search.py?line=857'>858</a>\u001b[0m         \u001b[39m\"\u001b[39m\u001b[39mWas the CV iterator empty? \u001b[39m\u001b[39m\"\u001b[39m\n\u001b[0;32m    <a href='file:///c%3A/Python310/lib/site-packages/sklearn/model_selection/_search.py?line=858'>859</a>\u001b[0m         \u001b[39m\"\u001b[39m\u001b[39mWere there no candidates?\u001b[39m\u001b[39m\"\u001b[39m\n\u001b[0;32m    <a href='file:///c%3A/Python310/lib/site-packages/sklearn/model_selection/_search.py?line=859'>860</a>\u001b[0m     )\n",
      "File \u001b[1;32mC:\\Python310\\lib\\site-packages\\joblib\\parallel.py:1056\u001b[0m, in \u001b[0;36mParallel.__call__\u001b[1;34m(self, iterable)\u001b[0m\n\u001b[0;32m   <a href='file:///c%3A/Python310/lib/site-packages/joblib/parallel.py?line=1052'>1053</a>\u001b[0m     \u001b[39mself\u001b[39m\u001b[39m.\u001b[39m_iterating \u001b[39m=\u001b[39m \u001b[39mFalse\u001b[39;00m\n\u001b[0;32m   <a href='file:///c%3A/Python310/lib/site-packages/joblib/parallel.py?line=1054'>1055</a>\u001b[0m \u001b[39mwith\u001b[39;00m \u001b[39mself\u001b[39m\u001b[39m.\u001b[39m_backend\u001b[39m.\u001b[39mretrieval_context():\n\u001b[1;32m-> <a href='file:///c%3A/Python310/lib/site-packages/joblib/parallel.py?line=1055'>1056</a>\u001b[0m     \u001b[39mself\u001b[39;49m\u001b[39m.\u001b[39;49mretrieve()\n\u001b[0;32m   <a href='file:///c%3A/Python310/lib/site-packages/joblib/parallel.py?line=1056'>1057</a>\u001b[0m \u001b[39m# Make sure that we get a last message telling us we are done\u001b[39;00m\n\u001b[0;32m   <a href='file:///c%3A/Python310/lib/site-packages/joblib/parallel.py?line=1057'>1058</a>\u001b[0m elapsed_time \u001b[39m=\u001b[39m time\u001b[39m.\u001b[39mtime() \u001b[39m-\u001b[39m \u001b[39mself\u001b[39m\u001b[39m.\u001b[39m_start_time\n",
      "File \u001b[1;32mC:\\Python310\\lib\\site-packages\\joblib\\parallel.py:935\u001b[0m, in \u001b[0;36mParallel.retrieve\u001b[1;34m(self)\u001b[0m\n\u001b[0;32m    <a href='file:///c%3A/Python310/lib/site-packages/joblib/parallel.py?line=932'>933</a>\u001b[0m \u001b[39mtry\u001b[39;00m:\n\u001b[0;32m    <a href='file:///c%3A/Python310/lib/site-packages/joblib/parallel.py?line=933'>934</a>\u001b[0m     \u001b[39mif\u001b[39;00m \u001b[39mgetattr\u001b[39m(\u001b[39mself\u001b[39m\u001b[39m.\u001b[39m_backend, \u001b[39m'\u001b[39m\u001b[39msupports_timeout\u001b[39m\u001b[39m'\u001b[39m, \u001b[39mFalse\u001b[39;00m):\n\u001b[1;32m--> <a href='file:///c%3A/Python310/lib/site-packages/joblib/parallel.py?line=934'>935</a>\u001b[0m         \u001b[39mself\u001b[39m\u001b[39m.\u001b[39m_output\u001b[39m.\u001b[39mextend(job\u001b[39m.\u001b[39;49mget(timeout\u001b[39m=\u001b[39;49m\u001b[39mself\u001b[39;49m\u001b[39m.\u001b[39;49mtimeout))\n\u001b[0;32m    <a href='file:///c%3A/Python310/lib/site-packages/joblib/parallel.py?line=935'>936</a>\u001b[0m     \u001b[39melse\u001b[39;00m:\n\u001b[0;32m    <a href='file:///c%3A/Python310/lib/site-packages/joblib/parallel.py?line=936'>937</a>\u001b[0m         \u001b[39mself\u001b[39m\u001b[39m.\u001b[39m_output\u001b[39m.\u001b[39mextend(job\u001b[39m.\u001b[39mget())\n",
      "File \u001b[1;32mC:\\Python310\\lib\\site-packages\\joblib\\_parallel_backends.py:542\u001b[0m, in \u001b[0;36mLokyBackend.wrap_future_result\u001b[1;34m(future, timeout)\u001b[0m\n\u001b[0;32m    <a href='file:///c%3A/Python310/lib/site-packages/joblib/_parallel_backends.py?line=538'>539</a>\u001b[0m \u001b[39m\"\"\"Wrapper for Future.result to implement the same behaviour as\u001b[39;00m\n\u001b[0;32m    <a href='file:///c%3A/Python310/lib/site-packages/joblib/_parallel_backends.py?line=539'>540</a>\u001b[0m \u001b[39mAsyncResults.get from multiprocessing.\"\"\"\u001b[39;00m\n\u001b[0;32m    <a href='file:///c%3A/Python310/lib/site-packages/joblib/_parallel_backends.py?line=540'>541</a>\u001b[0m \u001b[39mtry\u001b[39;00m:\n\u001b[1;32m--> <a href='file:///c%3A/Python310/lib/site-packages/joblib/_parallel_backends.py?line=541'>542</a>\u001b[0m     \u001b[39mreturn\u001b[39;00m future\u001b[39m.\u001b[39;49mresult(timeout\u001b[39m=\u001b[39;49mtimeout)\n\u001b[0;32m    <a href='file:///c%3A/Python310/lib/site-packages/joblib/_parallel_backends.py?line=542'>543</a>\u001b[0m \u001b[39mexcept\u001b[39;00m CfTimeoutError \u001b[39mas\u001b[39;00m e:\n\u001b[0;32m    <a href='file:///c%3A/Python310/lib/site-packages/joblib/_parallel_backends.py?line=543'>544</a>\u001b[0m     \u001b[39mraise\u001b[39;00m \u001b[39mTimeoutError\u001b[39;00m \u001b[39mfrom\u001b[39;00m \u001b[39me\u001b[39;00m\n",
      "File \u001b[1;32mC:\\Python310\\lib\\concurrent\\futures\\_base.py:441\u001b[0m, in \u001b[0;36mFuture.result\u001b[1;34m(self, timeout)\u001b[0m\n\u001b[0;32m    <a href='file:///c%3A/Python310/lib/concurrent/futures/_base.py?line=437'>438</a>\u001b[0m \u001b[39melif\u001b[39;00m \u001b[39mself\u001b[39m\u001b[39m.\u001b[39m_state \u001b[39m==\u001b[39m FINISHED:\n\u001b[0;32m    <a href='file:///c%3A/Python310/lib/concurrent/futures/_base.py?line=438'>439</a>\u001b[0m     \u001b[39mreturn\u001b[39;00m \u001b[39mself\u001b[39m\u001b[39m.\u001b[39m__get_result()\n\u001b[1;32m--> <a href='file:///c%3A/Python310/lib/concurrent/futures/_base.py?line=440'>441</a>\u001b[0m \u001b[39mself\u001b[39;49m\u001b[39m.\u001b[39;49m_condition\u001b[39m.\u001b[39;49mwait(timeout)\n\u001b[0;32m    <a href='file:///c%3A/Python310/lib/concurrent/futures/_base.py?line=442'>443</a>\u001b[0m \u001b[39mif\u001b[39;00m \u001b[39mself\u001b[39m\u001b[39m.\u001b[39m_state \u001b[39min\u001b[39;00m [CANCELLED, CANCELLED_AND_NOTIFIED]:\n\u001b[0;32m    <a href='file:///c%3A/Python310/lib/concurrent/futures/_base.py?line=443'>444</a>\u001b[0m     \u001b[39mraise\u001b[39;00m CancelledError()\n",
      "File \u001b[1;32mC:\\Python310\\lib\\threading.py:320\u001b[0m, in \u001b[0;36mCondition.wait\u001b[1;34m(self, timeout)\u001b[0m\n\u001b[0;32m    <a href='file:///c%3A/Python310/lib/threading.py?line=317'>318</a>\u001b[0m \u001b[39mtry\u001b[39;00m:    \u001b[39m# restore state no matter what (e.g., KeyboardInterrupt)\u001b[39;00m\n\u001b[0;32m    <a href='file:///c%3A/Python310/lib/threading.py?line=318'>319</a>\u001b[0m     \u001b[39mif\u001b[39;00m timeout \u001b[39mis\u001b[39;00m \u001b[39mNone\u001b[39;00m:\n\u001b[1;32m--> <a href='file:///c%3A/Python310/lib/threading.py?line=319'>320</a>\u001b[0m         waiter\u001b[39m.\u001b[39;49macquire()\n\u001b[0;32m    <a href='file:///c%3A/Python310/lib/threading.py?line=320'>321</a>\u001b[0m         gotit \u001b[39m=\u001b[39m \u001b[39mTrue\u001b[39;00m\n\u001b[0;32m    <a href='file:///c%3A/Python310/lib/threading.py?line=321'>322</a>\u001b[0m     \u001b[39melse\u001b[39;00m:\n",
      "\u001b[1;31mKeyboardInterrupt\u001b[0m: "
     ]
    }
   ],
   "source": [
    "%%time\n",
    "# Fit the random search model\n",
    "rf_random.fit(X_tr2, y_tr2)"
   ]
  },
  {
   "cell_type": "code",
   "execution_count": 198,
   "id": "003fa0eb-2801-4abf-aa4c-6d64011e340d",
   "metadata": {},
   "outputs": [
    {
     "data": {
      "text/plain": [
       "{'n_estimators': 1000,\n",
       " 'min_samples_split': 10,\n",
       " 'min_samples_leaf': 2,\n",
       " 'max_features': 'sqrt',\n",
       " 'max_depth': 10,\n",
       " 'bootstrap': True}"
      ]
     },
     "execution_count": 198,
     "metadata": {},
     "output_type": "execute_result"
    }
   ],
   "source": [
    "rf_random.best_params_"
   ]
  },
  {
   "cell_type": "code",
   "execution_count": 199,
   "id": "5c284eb7-2f4d-4815-9c56-35f8ddb6c6f2",
   "metadata": {},
   "outputs": [],
   "source": [
    "best_random = rf_random.best_estimator_"
   ]
  },
  {
   "cell_type": "code",
   "execution_count": 200,
   "id": "2c468f82-6f6a-44e2-9566-ec752228adcc",
   "metadata": {},
   "outputs": [],
   "source": [
    "y_predr = best_random.predict(X_te2)"
   ]
  },
  {
   "cell_type": "code",
   "execution_count": 201,
   "id": "8a4dc466-2a12-4854-a338-ef62b890b3fc",
   "metadata": {},
   "outputs": [
    {
     "data": {
      "text/plain": [
       "0.6842051045350324"
      ]
     },
     "execution_count": 201,
     "metadata": {},
     "output_type": "execute_result"
    }
   ],
   "source": [
    "r2_score(y_te2, y_predr)"
   ]
  },
  {
   "cell_type": "code",
   "execution_count": 202,
   "id": "bbe6b61a-dddb-40de-8d0f-c75dbba754c5",
   "metadata": {},
   "outputs": [],
   "source": [
    "dfff = pd.DataFrame({\n",
    "    'ID': tedf.index,\n",
    "    'true s(i)': y_te2,\n",
    "    'predicted s(i)': y_predr,\n",
    "})"
   ]
  },
  {
   "cell_type": "code",
   "execution_count": 203,
   "id": "a3f9cbca-d77c-43e5-8fea-e560ff6885d3",
   "metadata": {},
   "outputs": [],
   "source": [
    "dfff.set_index('ID', inplace = True)"
   ]
  },
  {
   "cell_type": "code",
   "execution_count": 204,
   "id": "dc46b7b7-2fc3-4877-8777-4098b8826f7b",
   "metadata": {},
   "outputs": [
    {
     "data": {
      "text/plain": [
       "array([[<AxesSubplot:title={'center':'true s(i)'}>,\n",
       "        <AxesSubplot:title={'center':'predicted s(i)'}>]], dtype=object)"
      ]
     },
     "execution_count": 204,
     "metadata": {},
     "output_type": "execute_result"
    },
    {
     "data": {
      "image/png": "[encoded data removed]",
      "text/plain": [
       "<Figure size 432x288 with 2 Axes>"
      ]
     },
     "metadata": {
      "needs_background": "light"
     },
     "output_type": "display_data"
    }
   ],
   "source": [
    "dfff.hist()"
   ]
  },
  {
   "cell_type": "markdown",
   "id": "759d5245-f694-43eb-9627-4f9c4bddefee",
   "metadata": {},
   "source": [
    "- - - "
   ]
  },
  {
   "cell_type": "markdown",
   "id": "aa40bfb8-1811-46b2-b87a-2f058650b1b6",
   "metadata": {},
   "source": [
    "#### Training s(i) independently"
   ]
  },
  {
   "cell_type": "code",
   "execution_count": 205,
   "id": "abee61a6-96a0-46c3-8073-7d031a132919",
   "metadata": {},
   "outputs": [],
   "source": [
    "# use an odd number of trees to prevent predictions of 0.5\n",
    "rf23 = RandomForestRegressor(n_estimators=11)\n"
   ]
  },
  {
   "cell_type": "code",
   "execution_count": 206,
   "id": "95671313-a260-4b04-addc-f84fb96a7c14",
   "metadata": {},
   "outputs": [
    {
     "data": {
      "text/plain": [
       "RandomForestRegressor(n_estimators=11)"
      ]
     },
     "execution_count": 206,
     "metadata": {},
     "output_type": "execute_result"
    }
   ],
   "source": [
    "rf23.fit(X_tr, y_tr[:,0])\n"
   ]
  },
  {
   "cell_type": "code",
   "execution_count": 207,
   "id": "ad039033-8d07-45ca-bfbf-c1601534803c",
   "metadata": {},
   "outputs": [],
   "source": [
    "y_pred23 = rf23.predict(X_te)"
   ]
  },
  {
   "cell_type": "code",
   "execution_count": 208,
   "id": "8d330b73-ff01-4257-ae25-2afd43bab79e",
   "metadata": {},
   "outputs": [
    {
     "data": {
      "text/plain": [
       "0.6344692541615196"
      ]
     },
     "execution_count": 208,
     "metadata": {},
     "output_type": "execute_result"
    }
   ],
   "source": [
    "r2_score(y_te[:,0], y_pred23)"
   ]
  },
  {
   "cell_type": "code",
   "execution_count": 209,
   "id": "533b1cd1-fb98-4950-b125-f87e6b0b1344",
   "metadata": {},
   "outputs": [],
   "source": [
    "dfff = pd.DataFrame({\n",
    "    'ID': tedf.index,\n",
    "    'true s(i)': y_te[:,0],\n",
    "    'predicted s(i)': y_pred23,\n",
    "})"
   ]
  },
  {
   "cell_type": "code",
   "execution_count": 210,
   "id": "1eea4ab2-eaac-4161-949b-cca228fe1bd9",
   "metadata": {},
   "outputs": [],
   "source": [
    "dfff.set_index('ID', inplace = True)"
   ]
  },
  {
   "cell_type": "code",
   "execution_count": 211,
   "id": "ff50205e-13f6-477f-ac42-4e63f0c549cf",
   "metadata": {},
   "outputs": [
    {
     "data": {
      "text/plain": [
       "array([[<AxesSubplot:title={'center':'true s(i)'}>,\n",
       "        <AxesSubplot:title={'center':'predicted s(i)'}>]], dtype=object)"
      ]
     },
     "execution_count": 211,
     "metadata": {},
     "output_type": "execute_result"
    },
    {
     "data": {
      "image/png": "[encoded data removed]",
      "text/plain": [
       "<Figure size 432x288 with 2 Axes>"
      ]
     },
     "metadata": {
      "needs_background": "light"
     },
     "output_type": "display_data"
    }
   ],
   "source": [
    "dfff.hist()"
   ]
  },
  {
   "cell_type": "markdown",
   "id": "728c891f-7669-45c2-9770-36de8de17cb4",
   "metadata": {},
   "source": [
    "#### Training s(i) independently: with cross validation"
   ]
  },
  {
   "cell_type": "code",
   "execution_count": 212,
   "id": "828315be-d162-4a73-9bce-fec16b8235ff",
   "metadata": {},
   "outputs": [],
   "source": [
    "# Use the random grid to search for best hyperparameters\n",
    "# First create the base model to tune\n",
    "rf = RandomForestRegressor()\n",
    "# Random search of parameters, using 3 fold cross validation, \n",
    "# search across 100 different combinations, and use all available cores\n",
    "rf_random = RandomizedSearchCV(estimator = rf, param_distributions = random_grid, n_iter = 100, cv = 3, verbose=2, random_state=42, n_jobs = -1)"
   ]
  },
  {
   "cell_type": "code",
   "execution_count": 213,
   "id": "eaafcd89-a484-4bf5-ace0-4dde16c8f7ce",
   "metadata": {},
   "outputs": [
    {
     "name": "stdout",
     "output_type": "stream",
     "text": [
      "Fitting 3 folds for each of 100 candidates, totalling 300 fits\n",
      "Wall time: 5min 28s\n"
     ]
    },
    {
     "data": {
      "text/plain": [
       "RandomizedSearchCV(cv=3, estimator=RandomForestRegressor(), n_iter=100,\n",
       "                   n_jobs=-1,\n",
       "                   param_distributions={'bootstrap': [True, False],\n",
       "                                        'max_depth': [10, 20, 30, 40, 50, 60,\n",
       "                                                      70, 80, 90, 100, 110,\n",
       "                                                      None],\n",
       "                                        'max_features': ['auto', 'sqrt'],\n",
       "                                        'min_samples_leaf': [1, 2, 4],\n",
       "                                        'min_samples_split': [2, 5, 10],\n",
       "                                        'n_estimators': [200, 400, 600, 800,\n",
       "                                                         1000, 1200, 1400, 1600,\n",
       "                                                         1800, 2000]},\n",
       "                   random_state=42, verbose=2)"
      ]
     },
     "execution_count": 213,
     "metadata": {},
     "output_type": "execute_result"
    }
   ],
   "source": [
    "%%time\n",
    "# Fit the random search model\n",
    "rf_random.fit(X_tr, y_tr[:,0])"
   ]
  },
  {
   "cell_type": "code",
   "execution_count": 214,
   "id": "4fcde485-6828-4a4e-b0bd-70b673850d87",
   "metadata": {},
   "outputs": [
    {
     "data": {
      "text/plain": [
       "{'n_estimators': 1000,\n",
       " 'min_samples_split': 10,\n",
       " 'min_samples_leaf': 2,\n",
       " 'max_features': 'sqrt',\n",
       " 'max_depth': 10,\n",
       " 'bootstrap': True}"
      ]
     },
     "execution_count": 214,
     "metadata": {},
     "output_type": "execute_result"
    }
   ],
   "source": [
    "rf_random.best_params_"
   ]
  },
  {
   "cell_type": "code",
   "execution_count": 215,
   "id": "ee54a047-4621-46e2-a5bf-0dc603240825",
   "metadata": {},
   "outputs": [],
   "source": [
    "best_random = rf_random.best_estimator_"
   ]
  },
  {
   "cell_type": "code",
   "execution_count": 216,
   "id": "474d8783-52f4-4856-82b8-578029b7c205",
   "metadata": {},
   "outputs": [],
   "source": [
    "y_predr = best_random.predict(X_te)"
   ]
  },
  {
   "cell_type": "code",
   "execution_count": 217,
   "id": "706c966a-e450-42a0-976c-a8419b74611c",
   "metadata": {},
   "outputs": [
    {
     "data": {
      "text/plain": [
       "0.6870716065414464"
      ]
     },
     "execution_count": 217,
     "metadata": {},
     "output_type": "execute_result"
    }
   ],
   "source": [
    "r2_score(y_te[:,0], y_predr)"
   ]
  },
  {
   "cell_type": "code",
   "execution_count": 218,
   "id": "aebe31a8-572b-45b1-b648-ff1548a56ac3",
   "metadata": {},
   "outputs": [],
   "source": [
    "dfff = pd.DataFrame({\n",
    "    'ID': tedf.index,\n",
    "    'true s(i)': y_te[:,0],\n",
    "    'predicted s(i)': y_predr,\n",
    "})"
   ]
  },
  {
   "cell_type": "code",
   "execution_count": 219,
   "id": "45cb8ddf-787b-4213-b909-530ce4949737",
   "metadata": {},
   "outputs": [],
   "source": [
    "dfff.set_index('ID', inplace = True)"
   ]
  },
  {
   "cell_type": "code",
   "execution_count": 220,
   "id": "737cf4de-ec53-4aee-8776-c7d782e27968",
   "metadata": {},
   "outputs": [
    {
     "data": {
      "text/plain": [
       "array([[<AxesSubplot:title={'center':'true s(i)'}>,\n",
       "        <AxesSubplot:title={'center':'predicted s(i)'}>]], dtype=object)"
      ]
     },
     "execution_count": 220,
     "metadata": {},
     "output_type": "execute_result"
    },
    {
     "data": {
      "image/png": "[encoded data removed]",
      "text/plain": [
       "<Figure size 432x288 with 2 Axes>"
      ]
     },
     "metadata": {
      "needs_background": "light"
     },
     "output_type": "display_data"
    }
   ],
   "source": [
    "dfff.hist()"
   ]
  },
  {
   "cell_type": "markdown",
   "id": "6fa82495-959f-486a-ade4-cbe7bba37d5b",
   "metadata": {},
   "source": [
    "--------------\n",
    "--------------\n",
    "## 2.2) Cross validated Model : RF Classifier\n",
    "- x(i)"
   ]
  },
  {
   "cell_type": "code",
   "execution_count": 221,
   "id": "5edb7ae7-6c92-414f-b9c0-6ff6856ac665",
   "metadata": {},
   "outputs": [],
   "source": [
    "rf2 = RandomForestClassifier()\n",
    "rf_random = RandomizedSearchCV(estimator = rf2, param_distributions = random_grid, n_iter = 100, cv = 3, verbose=2, random_state=42, n_jobs = -1)"
   ]
  },
  {
   "cell_type": "code",
   "execution_count": 222,
   "id": "0ccdd1de-c9a4-4f93-9817-dc4f57752296",
   "metadata": {},
   "outputs": [
    {
     "name": "stdout",
     "output_type": "stream",
     "text": [
      "Fitting 3 folds for each of 100 candidates, totalling 300 fits\n",
      "Wall time: 5min 27s\n"
     ]
    },
    {
     "data": {
      "text/plain": [
       "RandomizedSearchCV(cv=3, estimator=RandomForestClassifier(), n_iter=100,\n",
       "                   n_jobs=-1,\n",
       "                   param_distributions={'bootstrap': [True, False],\n",
       "                                        'max_depth': [10, 20, 30, 40, 50, 60,\n",
       "                                                      70, 80, 90, 100, 110,\n",
       "                                                      None],\n",
       "                                        'max_features': ['auto', 'sqrt'],\n",
       "                                        'min_samples_leaf': [1, 2, 4],\n",
       "                                        'min_samples_split': [2, 5, 10],\n",
       "                                        'n_estimators': [200, 400, 600, 800,\n",
       "                                                         1000, 1200, 1400, 1600,\n",
       "                                                         1800, 2000]},\n",
       "                   random_state=42, verbose=2)"
      ]
     },
     "execution_count": 222,
     "metadata": {},
     "output_type": "execute_result"
    }
   ],
   "source": [
    "%%time\n",
    "# Fit the random search model\n",
    "rf_random.fit(X_tr, y_tr[:,1])"
   ]
  },
  {
   "cell_type": "code",
   "execution_count": 223,
   "id": "2d5f9407-dea7-4bce-9484-b9d586f43e7e",
   "metadata": {},
   "outputs": [],
   "source": [
    "y_pred21 = rf_random.predict(X_te)"
   ]
  },
  {
   "cell_type": "markdown",
   "id": "89dcfb10",
   "metadata": {},
   "source": [
    "## New code Added"
   ]
  },
  {
   "cell_type": "code",
   "execution_count": null,
   "id": "3906b3e2",
   "metadata": {},
   "outputs": [],
   "source": [
    "def pre_x(y1, y2, y3, y4):\n",
    "  test_new = [y1,y2,y3,y4]\n",
    "  y_pred21 = rf_random.predict(test_new)  ##predicted x(i)  \n",
    "  return y_pred21"
   ]
  },
  {
   "cell_type": "markdown",
   "id": "fe848bbb-1f3d-4b64-945a-2582a248e449",
   "metadata": {},
   "source": [
    "## Results:"
   ]
  },
  {
   "cell_type": "code",
   "execution_count": 224,
   "id": "042118a9-3494-434c-aefb-bd505f244086",
   "metadata": {},
   "outputs": [
    {
     "data": {
      "text/plain": [
       "<sklearn.metrics._plot.confusion_matrix.ConfusionMatrixDisplay at 0x1fa7f6ca520>"
      ]
     },
     "execution_count": 224,
     "metadata": {},
     "output_type": "execute_result"
    },
    {
     "data": {
      "image/png": "[encoded data removed]",
      "text/plain": [
       "<Figure size 432x288 with 2 Axes>"
      ]
     },
     "metadata": {
      "needs_background": "light"
     },
     "output_type": "display_data"
    }
   ],
   "source": [
    "cm = confusion_matrix(y_te[:,1], y_pred21, labels=[0,1,2])\n",
    "disp = ConfusionMatrixDisplay(confusion_matrix=cm,\n",
    "                             display_labels=['N', 'L1', 'L2'])\n",
    "disp.plot()"
   ]
  },
  {
   "cell_type": "code",
   "execution_count": 225,
   "id": "acdc0b5b-8f8b-4809-92d7-9d7ae997c712",
   "metadata": {},
   "outputs": [
    {
     "data": {
      "text/plain": [
       "0.934"
      ]
     },
     "execution_count": 225,
     "metadata": {},
     "output_type": "execute_result"
    }
   ],
   "source": [
    "accuracy_score(y_te[:,1], y_pred21) "
   ]
  },
  {
   "cell_type": "code",
   "execution_count": 226,
   "id": "9642032e-1446-44eb-98f0-5e879c21f532",
   "metadata": {},
   "outputs": [
    {
     "data": {
      "text/plain": [
       "0.9339707456565681"
      ]
     },
     "execution_count": 226,
     "metadata": {},
     "output_type": "execute_result"
    }
   ],
   "source": [
    "f1_score(y_te[:,1], y_pred21, average='weighted') "
   ]
  },
  {
   "cell_type": "code",
   "execution_count": 227,
   "id": "cc518854-0259-4a1b-911f-72ba6a2f5784",
   "metadata": {},
   "outputs": [
    {
     "data": {
      "text/plain": [
       "0.9398085373509102"
      ]
     },
     "execution_count": 227,
     "metadata": {},
     "output_type": "execute_result"
    }
   ],
   "source": [
    "precision_score(y_te[:,1], y_pred21, average='weighted') "
   ]
  },
  {
   "cell_type": "code",
   "execution_count": 228,
   "id": "26ea04d0-8bec-43b4-8924-331fe51268f4",
   "metadata": {},
   "outputs": [
    {
     "data": {
      "text/plain": [
       "0.934"
      ]
     },
     "execution_count": 228,
     "metadata": {},
     "output_type": "execute_result"
    }
   ],
   "source": [
    "recall_score(y_te[:,1], y_pred21, average='weighted') "
   ]
  },
  {
   "cell_type": "code",
   "execution_count": 229,
   "id": "3fd4e4a2-650d-4827-9fdf-51951879b89f",
   "metadata": {},
   "outputs": [],
   "source": [
    "df_x = pd.DataFrame({\n",
    "    'IDs': tedf.index,\n",
    "    'True x(i)': y_te[:,1],\n",
    "    'Predicted x(i)': y_pred21\n",
    "})"
   ]
  },
  {
   "cell_type": "code",
   "execution_count": 230,
   "id": "06470021-cf04-43ff-bd05-1697e7e4d05d",
   "metadata": {},
   "outputs": [
    {
     "data": {
      "text/html": [
       "<div>\n",
       "<style scoped>\n",
       "    .dataframe tbody tr th:only-of-type {\n",
       "        vertical-align: middle;\n",
       "    }\n",
       "\n",
       "    .dataframe tbody tr th {\n",
       "        vertical-align: top;\n",
       "    }\n",
       "\n",
       "    .dataframe thead th {\n",
       "        text-align: right;\n",
       "    }\n",
       "</style>\n",
       "<table border=\"1\" class=\"dataframe\">\n",
       "  <thead>\n",
       "    <tr style=\"text-align: right;\">\n",
       "      <th></th>\n",
       "      <th>IDs</th>\n",
       "      <th>True x(i)</th>\n",
       "      <th>Predicted x(i)</th>\n",
       "    </tr>\n",
       "  </thead>\n",
       "  <tbody>\n",
       "    <tr>\n",
       "      <th>0</th>\n",
       "      <td>12</td>\n",
       "      <td>0.0</td>\n",
       "      <td>0.0</td>\n",
       "    </tr>\n",
       "    <tr>\n",
       "      <th>1</th>\n",
       "      <td>15</td>\n",
       "      <td>0.0</td>\n",
       "      <td>0.0</td>\n",
       "    </tr>\n",
       "    <tr>\n",
       "      <th>2</th>\n",
       "      <td>24</td>\n",
       "      <td>0.0</td>\n",
       "      <td>0.0</td>\n",
       "    </tr>\n",
       "    <tr>\n",
       "      <th>3</th>\n",
       "      <td>25</td>\n",
       "      <td>2.0</td>\n",
       "      <td>2.0</td>\n",
       "    </tr>\n",
       "    <tr>\n",
       "      <th>4</th>\n",
       "      <td>42</td>\n",
       "      <td>0.0</td>\n",
       "      <td>0.0</td>\n",
       "    </tr>\n",
       "    <tr>\n",
       "      <th>...</th>\n",
       "      <td>...</td>\n",
       "      <td>...</td>\n",
       "      <td>...</td>\n",
       "    </tr>\n",
       "    <tr>\n",
       "      <th>495</th>\n",
       "      <td>2472</td>\n",
       "      <td>2.0</td>\n",
       "      <td>2.0</td>\n",
       "    </tr>\n",
       "    <tr>\n",
       "      <th>496</th>\n",
       "      <td>2476</td>\n",
       "      <td>0.0</td>\n",
       "      <td>0.0</td>\n",
       "    </tr>\n",
       "    <tr>\n",
       "      <th>497</th>\n",
       "      <td>2482</td>\n",
       "      <td>2.0</td>\n",
       "      <td>2.0</td>\n",
       "    </tr>\n",
       "    <tr>\n",
       "      <th>498</th>\n",
       "      <td>2487</td>\n",
       "      <td>2.0</td>\n",
       "      <td>2.0</td>\n",
       "    </tr>\n",
       "    <tr>\n",
       "      <th>499</th>\n",
       "      <td>2495</td>\n",
       "      <td>0.0</td>\n",
       "      <td>0.0</td>\n",
       "    </tr>\n",
       "  </tbody>\n",
       "</table>\n",
       "<p>500 rows × 3 columns</p>\n",
       "</div>"
      ],
      "text/plain": [
       "      IDs  True x(i)  Predicted x(i)\n",
       "0      12        0.0             0.0\n",
       "1      15        0.0             0.0\n",
       "2      24        0.0             0.0\n",
       "3      25        2.0             2.0\n",
       "4      42        0.0             0.0\n",
       "..    ...        ...             ...\n",
       "495  2472        2.0             2.0\n",
       "496  2476        0.0             0.0\n",
       "497  2482        2.0             2.0\n",
       "498  2487        2.0             2.0\n",
       "499  2495        0.0             0.0\n",
       "\n",
       "[500 rows x 3 columns]"
      ]
     },
     "execution_count": 230,
     "metadata": {},
     "output_type": "execute_result"
    }
   ],
   "source": [
    "df_x"
   ]
  },
  {
   "cell_type": "code",
   "execution_count": 232,
   "id": "1774e0d6-dab7-461b-b20e-f63ff6f04b77",
   "metadata": {},
   "outputs": [],
   "source": [
    "#df_x.to_csv('C:\\Users\\ashut\\Desktop\\BTP\\website\\04 model_i_model_2_2_x_i.csv')"
   ]
  },
  {
   "cell_type": "markdown",
   "id": "0647d300-b034-409e-bce7-0e24830f2776",
   "metadata": {},
   "source": [
    "--------------\n",
    "--------------\n",
    "## 3) Model : predicting s(i) with normalized counts\n",
    "- RF regressor, s(i)"
   ]
  },
  {
   "cell_type": "code",
   "execution_count": 233,
   "id": "643d782f-fdd4-4dd7-a3d1-3c873aa2a593",
   "metadata": {},
   "outputs": [],
   "source": [
    "trdf['N~y(1)(i)'] = trdf['~y(1)(i)']/ trdf['N(i)']"
   ]
  },
  {
   "cell_type": "code",
   "execution_count": 234,
   "id": "a3ff48e3-0b95-4032-abf5-89169b2c51af",
   "metadata": {},
   "outputs": [],
   "source": [
    "trdf['N~y(2)(i)'] = trdf['~y(2)(i)']/ trdf['N(i)']\n",
    "trdf['N~y(3)(i)'] = trdf['~y(3)(i)']/ trdf['N(i)']\n",
    "trdf['N~y(4)(i)'] = trdf['~y(4)(i)']/ trdf['N(i)']"
   ]
  },
  {
   "cell_type": "code",
   "execution_count": 235,
   "id": "399e6c9b-87ca-4288-994b-864f8db0dd15",
   "metadata": {},
   "outputs": [],
   "source": [
    "X_tr3 = np.array(trdf[['N~y(1)(i)', 'N~y(2)(i)', 'N~y(3)(i)', 'N~y(4)(i)']])"
   ]
  },
  {
   "cell_type": "code",
   "execution_count": 236,
   "id": "528a8148-50ce-466c-b04d-fbdd277be8f4",
   "metadata": {},
   "outputs": [
    {
     "data": {
      "text/plain": [
       "(2000, 4)"
      ]
     },
     "execution_count": 236,
     "metadata": {},
     "output_type": "execute_result"
    }
   ],
   "source": [
    "X_tr3.shape"
   ]
  },
  {
   "cell_type": "code",
   "execution_count": 237,
   "id": "8460ebf4-991d-4bd5-9198-81b7d3d0e419",
   "metadata": {},
   "outputs": [],
   "source": [
    "y_tr = np.array(trdf[[  'Affected Customers s(i)', 'Lateral Anomaly Status x(i)']])"
   ]
  },
  {
   "cell_type": "code",
   "execution_count": 238,
   "id": "d638d846-54de-485c-a627-631c9acb178d",
   "metadata": {},
   "outputs": [
    {
     "data": {
      "text/plain": [
       "(2000, 2)"
      ]
     },
     "execution_count": 238,
     "metadata": {},
     "output_type": "execute_result"
    }
   ],
   "source": [
    "y_tr.shape"
   ]
  },
  {
   "cell_type": "code",
   "execution_count": 239,
   "id": "b1666aed-15c1-4701-a9eb-5e0cc23d38db",
   "metadata": {},
   "outputs": [],
   "source": [
    "tedf['N~y(1)(i)'] = tedf['~y(1)(i)']/ tedf['N(i)']"
   ]
  },
  {
   "cell_type": "code",
   "execution_count": 240,
   "id": "d10fcf4a-021d-4f2b-972c-cc7ad82b7f39",
   "metadata": {},
   "outputs": [],
   "source": [
    "tedf['N~y(2)(i)'] = tedf['~y(2)(i)']/ tedf['N(i)']\n",
    "tedf['N~y(3)(i)'] = tedf['~y(3)(i)']/ tedf['N(i)']\n",
    "tedf['N~y(4)(i)'] = tedf['~y(4)(i)']/ tedf['N(i)']"
   ]
  },
  {
   "cell_type": "code",
   "execution_count": 241,
   "id": "b549880b-ba13-4891-92e8-3411c102ebb0",
   "metadata": {},
   "outputs": [],
   "source": [
    "X_te3 = np.array(tedf[['N~y(1)(i)', 'N~y(2)(i)', 'N~y(3)(i)', 'N~y(4)(i)']])"
   ]
  },
  {
   "cell_type": "code",
   "execution_count": 242,
   "id": "39276c1f-1ec8-462c-a3a7-6f10be84355e",
   "metadata": {},
   "outputs": [
    {
     "data": {
      "text/plain": [
       "(500, 4)"
      ]
     },
     "execution_count": 242,
     "metadata": {},
     "output_type": "execute_result"
    }
   ],
   "source": [
    "X_te3.shape"
   ]
  },
  {
   "cell_type": "code",
   "execution_count": 243,
   "id": "69d963a3-01c2-4fb5-9adc-bf52b292107f",
   "metadata": {},
   "outputs": [],
   "source": [
    "# use an odd number of trees to prevent predictions of 0.5\n",
    "rf3 = RandomForestRegressor(n_estimators=11)\n"
   ]
  },
  {
   "cell_type": "code",
   "execution_count": 244,
   "id": "ed7e3806-7170-4c26-9f30-ec6af095569a",
   "metadata": {},
   "outputs": [
    {
     "data": {
      "text/plain": [
       "RandomForestRegressor(n_estimators=11)"
      ]
     },
     "execution_count": 244,
     "metadata": {},
     "output_type": "execute_result"
    }
   ],
   "source": [
    "rf3.fit(X_tr3, y_tr[:,0])\n"
   ]
  },
  {
   "cell_type": "markdown",
   "id": "11b80159",
   "metadata": {},
   "source": [
    "## New code Added\n"
   ]
  },
  {
   "cell_type": "code",
   "execution_count": null,
   "id": "1456cdd2",
   "metadata": {},
   "outputs": [],
   "source": [
    "def pre_s(y1,y2,y3,y4,N):\n",
    "  tedf['N~y(1)(i)'] = y1/N\n",
    "  tedf['N~y(2)(i)'] = y2/N\n",
    "  tedf['N~y(3)(i)'] = y3/N\n",
    "  tedf['N~y(4)(i)'] = y4/N\n",
    "\n",
    "  X_te3 = np.array(tedf[['N~y(1)(i)', 'N~y(2)(i)', 'N~y(3)(i)', 'N~y(4)(i)']])\n",
    "  y_pred3 = rf3.predict(X_te3)  ##predicted s(i)\n",
    "  return y_pred3"
   ]
  },
  {
   "cell_type": "code",
   "execution_count": 245,
   "id": "9c2245af-098f-42cf-a312-025a37328a33",
   "metadata": {},
   "outputs": [],
   "source": [
    "y_pred3 = rf3.predict(X_te3)"
   ]
  },
  {
   "cell_type": "code",
   "execution_count": 246,
   "id": "73ebded6-9839-430d-b3bc-c6d84f2020a1",
   "metadata": {},
   "outputs": [
    {
     "data": {
      "text/plain": [
       "0.8307139674475729"
      ]
     },
     "execution_count": 246,
     "metadata": {},
     "output_type": "execute_result"
    }
   ],
   "source": [
    "r2_score(y_te[:,0], y_pred3)"
   ]
  },
  {
   "cell_type": "code",
   "execution_count": 247,
   "id": "09f0019a-b204-4beb-ace1-5f070ca47d2b",
   "metadata": {},
   "outputs": [],
   "source": [
    "dfff = pd.DataFrame({\n",
    "    'ID': tedf.index,\n",
    "    'true s(i)': y_te[:,0],\n",
    "    'predicted s(i)': y_pred3,\n",
    "})"
   ]
  },
  {
   "cell_type": "code",
   "execution_count": 248,
   "id": "86bfc624-2bc9-4929-9e96-81d0d624b612",
   "metadata": {},
   "outputs": [],
   "source": [
    "dfff.set_index('ID', inplace = True)"
   ]
  },
  {
   "cell_type": "code",
   "execution_count": 249,
   "id": "2ed561d7-a23c-4a06-b078-48d00678ceda",
   "metadata": {},
   "outputs": [
    {
     "data": {
      "text/plain": [
       "array([[<AxesSubplot:title={'center':'true s(i)'}>,\n",
       "        <AxesSubplot:title={'center':'predicted s(i)'}>]], dtype=object)"
      ]
     },
     "execution_count": 249,
     "metadata": {},
     "output_type": "execute_result"
    },
    {
     "data": {
      "image/png": "[encoded data removed]",
      "text/plain": [
       "<Figure size 432x288 with 2 Axes>"
      ]
     },
     "metadata": {
      "needs_background": "light"
     },
     "output_type": "display_data"
    }
   ],
   "source": [
    "dfff.hist()"
   ]
  },
  {
   "cell_type": "code",
   "execution_count": 250,
   "id": "1826c52f-ed4d-4400-88f6-fdc380b7459d",
   "metadata": {},
   "outputs": [
    {
     "data": {
      "text/plain": [
       "0.01952525517924507"
      ]
     },
     "execution_count": 250,
     "metadata": {},
     "output_type": "execute_result"
    }
   ],
   "source": [
    "mean_squared_error(y_te[:,0], y_pred3)"
   ]
  },
  {
   "cell_type": "code",
   "execution_count": 251,
   "id": "7eff3651-24d6-4504-92fc-97f167fde426",
   "metadata": {},
   "outputs": [
    {
     "data": {
      "text/plain": [
       "0.13973279922496745"
      ]
     },
     "execution_count": 251,
     "metadata": {},
     "output_type": "execute_result"
    }
   ],
   "source": [
    "#rmse\n",
    "mean_squared_error(y_te[:,0], y_pred3, squared = False)"
   ]
  },
  {
   "cell_type": "markdown",
   "id": "806f1e28-3f62-4bd7-9a68-0445a1cc0f56",
   "metadata": {},
   "source": [
    "## Cross-validated"
   ]
  },
  {
   "cell_type": "code",
   "execution_count": 252,
   "id": "7637e34f-65ce-4b23-b5d8-00996018fc30",
   "metadata": {},
   "outputs": [],
   "source": [
    "# Use the random grid to search for best hyperparameters\n",
    "# First create the base model to tune\n",
    "rf = RandomForestRegressor()\n",
    "# Random search of parameters, using 3 fold cross validation, \n",
    "# search across 100 different combinations, and use all available cores\n",
    "rf_random = RandomizedSearchCV(estimator = rf, param_distributions = random_grid, n_iter = 100, cv = 3, verbose=2, random_state=42, n_jobs = -1)"
   ]
  },
  {
   "cell_type": "code",
   "execution_count": 253,
   "id": "040ecc03-a677-4425-9c81-5cbbaa0e5891",
   "metadata": {},
   "outputs": [
    {
     "name": "stdout",
     "output_type": "stream",
     "text": [
      "Fitting 3 folds for each of 100 candidates, totalling 300 fits\n",
      "Wall time: 8min 21s\n"
     ]
    },
    {
     "data": {
      "text/plain": [
       "RandomizedSearchCV(cv=3, estimator=RandomForestRegressor(), n_iter=100,\n",
       "                   n_jobs=-1,\n",
       "                   param_distributions={'bootstrap': [True, False],\n",
       "                                        'max_depth': [10, 20, 30, 40, 50, 60,\n",
       "                                                      70, 80, 90, 100, 110,\n",
       "                                                      None],\n",
       "                                        'max_features': ['auto', 'sqrt'],\n",
       "                                        'min_samples_leaf': [1, 2, 4],\n",
       "                                        'min_samples_split': [2, 5, 10],\n",
       "                                        'n_estimators': [200, 400, 600, 800,\n",
       "                                                         1000, 1200, 1400, 1600,\n",
       "                                                         1800, 2000]},\n",
       "                   random_state=42, verbose=2)"
      ]
     },
     "execution_count": 253,
     "metadata": {},
     "output_type": "execute_result"
    }
   ],
   "source": [
    "%%time\n",
    "# Fit the random search model\n",
    "rf_random.fit(X_tr3, y_tr[:,0])"
   ]
  },
  {
   "cell_type": "code",
   "execution_count": 254,
   "id": "64a45fb6-c439-4f16-9ef3-335bced7cd2d",
   "metadata": {},
   "outputs": [
    {
     "data": {
      "text/plain": [
       "{'n_estimators': 600,\n",
       " 'min_samples_split': 10,\n",
       " 'min_samples_leaf': 1,\n",
       " 'max_features': 'sqrt',\n",
       " 'max_depth': 110,\n",
       " 'bootstrap': True}"
      ]
     },
     "execution_count": 254,
     "metadata": {},
     "output_type": "execute_result"
    }
   ],
   "source": [
    "rf_random.best_params_"
   ]
  },
  {
   "cell_type": "code",
   "execution_count": 255,
   "id": "7752ffb6-7e7b-416e-84e9-6ca9aaf0465f",
   "metadata": {},
   "outputs": [],
   "source": [
    "best_random = rf_random.best_estimator_"
   ]
  },
  {
   "cell_type": "code",
   "execution_count": 256,
   "id": "e4d4bf41-f5e6-4f7a-a0f1-799ceee6c9b3",
   "metadata": {},
   "outputs": [],
   "source": [
    "y_predr3 = best_random.predict(X_te3)"
   ]
  },
  {
   "cell_type": "code",
   "execution_count": 257,
   "id": "67012fb5-18b5-4e4e-8d5d-c6d0b9f7acbb",
   "metadata": {},
   "outputs": [
    {
     "data": {
      "text/plain": [
       "0.8459631562357173"
      ]
     },
     "execution_count": 257,
     "metadata": {},
     "output_type": "execute_result"
    }
   ],
   "source": [
    "r2_score(y_te[:,0], y_predr3)"
   ]
  },
  {
   "cell_type": "code",
   "execution_count": 258,
   "id": "82184280-4416-48d4-987f-317185ac329a",
   "metadata": {},
   "outputs": [],
   "source": [
    "dfff = pd.DataFrame({\n",
    "    'ID': tedf.index,\n",
    "    'true s(i)': y_te[:,0],\n",
    "    'predicted s(i)': y_predr3,\n",
    "})"
   ]
  },
  {
   "cell_type": "code",
   "execution_count": 259,
   "id": "f1b40d59-93bd-4d60-9b2f-1cdcc363170c",
   "metadata": {},
   "outputs": [],
   "source": [
    "dfff.set_index('ID', inplace = True)"
   ]
  },
  {
   "cell_type": "code",
   "execution_count": 260,
   "id": "1f0fa884-8bfc-4597-91cd-557fbe03a03e",
   "metadata": {},
   "outputs": [
    {
     "data": {
      "text/plain": [
       "array([[<AxesSubplot:title={'center':'true s(i)'}>,\n",
       "        <AxesSubplot:title={'center':'predicted s(i)'}>]], dtype=object)"
      ]
     },
     "execution_count": 260,
     "metadata": {},
     "output_type": "execute_result"
    },
    {
     "data": {
      "image/png": "[encoded data removed]",
      "text/plain": [
       "<Figure size 432x288 with 2 Axes>"
      ]
     },
     "metadata": {
      "needs_background": "light"
     },
     "output_type": "display_data"
    }
   ],
   "source": [
    "dfff.hist()"
   ]
  },
  {
   "cell_type": "code",
   "execution_count": 261,
   "id": "4e8d5a2f-5e77-4dba-93f2-cd54cbf11788",
   "metadata": {},
   "outputs": [
    {
     "data": {
      "text/plain": [
       "0.017766431383355156"
      ]
     },
     "execution_count": 261,
     "metadata": {},
     "output_type": "execute_result"
    }
   ],
   "source": [
    "mean_squared_error(y_te[:,0], y_predr3)"
   ]
  },
  {
   "cell_type": "code",
   "execution_count": 262,
   "id": "11e938ec-ea3c-4300-8e64-8ee838e84922",
   "metadata": {},
   "outputs": [
    {
     "data": {
      "text/plain": [
       "0.13329077756302254"
      ]
     },
     "execution_count": 262,
     "metadata": {},
     "output_type": "execute_result"
    }
   ],
   "source": [
    "#rmse\n",
    "mean_squared_error(y_te[:,0], y_predr3, squared = False)"
   ]
  },
  {
   "cell_type": "code",
   "execution_count": 265,
   "id": "a6f0cd16-8b25-4db0-9d12-3e33f65a169d",
   "metadata": {},
   "outputs": [],
   "source": [
    "dfff.to_csv(r'C:\\Users\\ashut\\Desktop\\BTP\\website\\04 model_i_model_3_s_i.csv')"
   ]
  },
  {
   "cell_type": "code",
   "execution_count": null,
   "id": "a603b855-af9c-4523-95c6-9157467a2322",
   "metadata": {},
   "outputs": [],
   "source": []
  },
  {
   "cell_type": "code",
   "execution_count": null,
   "id": "a0416e33-5802-49e7-bf36-803663678610",
   "metadata": {},
   "outputs": [],
   "source": []
  },
  {
   "cell_type": "markdown",
   "id": "f32df58c-9449-4017-8dad-2dc65da2b4b2",
   "metadata": {},
   "source": [
    "--------------\n",
    "--------------\n",
    "## 3.2) Model : predicting s(i) with normalized counts using x(i)'s\n",
    "- RF regressor, s(i)\n",
    "- Use true x(i) as an additional feature for training data.\n",
    "- Use predicted x(i) as an additional feature on test data"
   ]
  },
  {
   "cell_type": "code",
   "execution_count": 266,
   "id": "a04402ad-5f8b-43f9-8572-3db7cced89cd",
   "metadata": {},
   "outputs": [],
   "source": [
    "X_tr32 = np.array(trdf[['N~y(1)(i)', 'N~y(2)(i)', 'N~y(3)(i)', 'N~y(4)(i)', 'Lateral Anomaly Status x(i)']])"
   ]
  },
  {
   "cell_type": "code",
   "execution_count": 267,
   "id": "d9cc62e4-f9d8-4e9b-b7c8-41192e1924a2",
   "metadata": {},
   "outputs": [
    {
     "data": {
      "text/plain": [
       "(2000, 5)"
      ]
     },
     "execution_count": 267,
     "metadata": {},
     "output_type": "execute_result"
    }
   ],
   "source": [
    "X_tr32.shape"
   ]
  },
  {
   "cell_type": "code",
   "execution_count": 268,
   "id": "9ab93c0c-e047-4a1f-8413-a3fb82779ea5",
   "metadata": {},
   "outputs": [],
   "source": [
    "y_tr32 = np.array(trdf[ 'Affected Customers s(i)'])"
   ]
  },
  {
   "cell_type": "code",
   "execution_count": 269,
   "id": "72b41133-2bd8-4f3d-a101-f49d671ba2bb",
   "metadata": {},
   "outputs": [
    {
     "data": {
      "text/plain": [
       "array([0.66666667, 0.65      , 0.        , ..., 0.80555556, 0.        ,\n",
       "       1.        ])"
      ]
     },
     "execution_count": 269,
     "metadata": {},
     "output_type": "execute_result"
    }
   ],
   "source": [
    "y_tr32"
   ]
  },
  {
   "cell_type": "code",
   "execution_count": 270,
   "id": "7f619769-cfad-411d-bdab-f6c1b56a59bc",
   "metadata": {},
   "outputs": [],
   "source": [
    "y_te32 = np.array(tedf[ 'Affected Customers s(i)'])"
   ]
  },
  {
   "cell_type": "code",
   "execution_count": 271,
   "id": "059db4f5-e55c-456e-829b-f0f12516fde0",
   "metadata": {},
   "outputs": [],
   "source": [
    "X_te32 = tedf[['N~y(1)(i)', 'N~y(2)(i)', 'N~y(3)(i)', 'N~y(4)(i)']]"
   ]
  },
  {
   "cell_type": "code",
   "execution_count": 272,
   "id": "b3784c01-d97e-4d21-9a91-81eb994fd58f",
   "metadata": {},
   "outputs": [],
   "source": [
    "X_te32['Predicted Lateral Anomaly Status x(i)'] = y_pred21"
   ]
  },
  {
   "cell_type": "code",
   "execution_count": 273,
   "id": "eed4c5cc-ffbb-4b3e-b534-f579c360bbf5",
   "metadata": {},
   "outputs": [
    {
     "data": {
      "text/html": [
       "<div>\n",
       "<style scoped>\n",
       "    .dataframe tbody tr th:only-of-type {\n",
       "        vertical-align: middle;\n",
       "    }\n",
       "\n",
       "    .dataframe tbody tr th {\n",
       "        vertical-align: top;\n",
       "    }\n",
       "\n",
       "    .dataframe thead th {\n",
       "        text-align: right;\n",
       "    }\n",
       "</style>\n",
       "<table border=\"1\" class=\"dataframe\">\n",
       "  <thead>\n",
       "    <tr style=\"text-align: right;\">\n",
       "      <th></th>\n",
       "      <th>N~y(1)(i)</th>\n",
       "      <th>N~y(2)(i)</th>\n",
       "      <th>N~y(3)(i)</th>\n",
       "      <th>N~y(4)(i)</th>\n",
       "      <th>Predicted Lateral Anomaly Status x(i)</th>\n",
       "    </tr>\n",
       "    <tr>\n",
       "      <th>Lateral_ID (i)</th>\n",
       "      <th></th>\n",
       "      <th></th>\n",
       "      <th></th>\n",
       "      <th></th>\n",
       "      <th></th>\n",
       "    </tr>\n",
       "  </thead>\n",
       "  <tbody>\n",
       "    <tr>\n",
       "      <th>12</th>\n",
       "      <td>0.0</td>\n",
       "      <td>0.000000</td>\n",
       "      <td>0.000000</td>\n",
       "      <td>0.000000</td>\n",
       "      <td>0.0</td>\n",
       "    </tr>\n",
       "    <tr>\n",
       "      <th>15</th>\n",
       "      <td>0.0</td>\n",
       "      <td>0.000000</td>\n",
       "      <td>0.000000</td>\n",
       "      <td>0.000000</td>\n",
       "      <td>0.0</td>\n",
       "    </tr>\n",
       "    <tr>\n",
       "      <th>24</th>\n",
       "      <td>0.0</td>\n",
       "      <td>0.000000</td>\n",
       "      <td>0.000000</td>\n",
       "      <td>0.000000</td>\n",
       "      <td>0.0</td>\n",
       "    </tr>\n",
       "    <tr>\n",
       "      <th>25</th>\n",
       "      <td>0.0</td>\n",
       "      <td>0.333333</td>\n",
       "      <td>0.000000</td>\n",
       "      <td>1.166667</td>\n",
       "      <td>2.0</td>\n",
       "    </tr>\n",
       "    <tr>\n",
       "      <th>42</th>\n",
       "      <td>0.0</td>\n",
       "      <td>0.000000</td>\n",
       "      <td>0.000000</td>\n",
       "      <td>0.000000</td>\n",
       "      <td>0.0</td>\n",
       "    </tr>\n",
       "    <tr>\n",
       "      <th>...</th>\n",
       "      <td>...</td>\n",
       "      <td>...</td>\n",
       "      <td>...</td>\n",
       "      <td>...</td>\n",
       "      <td>...</td>\n",
       "    </tr>\n",
       "    <tr>\n",
       "      <th>2472</th>\n",
       "      <td>0.0</td>\n",
       "      <td>0.428571</td>\n",
       "      <td>1.061224</td>\n",
       "      <td>1.551020</td>\n",
       "      <td>2.0</td>\n",
       "    </tr>\n",
       "    <tr>\n",
       "      <th>2476</th>\n",
       "      <td>0.0</td>\n",
       "      <td>0.000000</td>\n",
       "      <td>0.000000</td>\n",
       "      <td>0.000000</td>\n",
       "      <td>0.0</td>\n",
       "    </tr>\n",
       "    <tr>\n",
       "      <th>2482</th>\n",
       "      <td>0.0</td>\n",
       "      <td>0.386364</td>\n",
       "      <td>1.022727</td>\n",
       "      <td>1.681818</td>\n",
       "      <td>2.0</td>\n",
       "    </tr>\n",
       "    <tr>\n",
       "      <th>2487</th>\n",
       "      <td>0.0</td>\n",
       "      <td>0.200000</td>\n",
       "      <td>1.600000</td>\n",
       "      <td>1.800000</td>\n",
       "      <td>2.0</td>\n",
       "    </tr>\n",
       "    <tr>\n",
       "      <th>2495</th>\n",
       "      <td>0.0</td>\n",
       "      <td>0.000000</td>\n",
       "      <td>0.000000</td>\n",
       "      <td>0.000000</td>\n",
       "      <td>0.0</td>\n",
       "    </tr>\n",
       "  </tbody>\n",
       "</table>\n",
       "<p>500 rows × 5 columns</p>\n",
       "</div>"
      ],
      "text/plain": [
       "                N~y(1)(i)  N~y(2)(i)  N~y(3)(i)  N~y(4)(i)  \\\n",
       "Lateral_ID (i)                                               \n",
       "12                    0.0   0.000000   0.000000   0.000000   \n",
       "15                    0.0   0.000000   0.000000   0.000000   \n",
       "24                    0.0   0.000000   0.000000   0.000000   \n",
       "25                    0.0   0.333333   0.000000   1.166667   \n",
       "42                    0.0   0.000000   0.000000   0.000000   \n",
       "...                   ...        ...        ...        ...   \n",
       "2472                  0.0   0.428571   1.061224   1.551020   \n",
       "2476                  0.0   0.000000   0.000000   0.000000   \n",
       "2482                  0.0   0.386364   1.022727   1.681818   \n",
       "2487                  0.0   0.200000   1.600000   1.800000   \n",
       "2495                  0.0   0.000000   0.000000   0.000000   \n",
       "\n",
       "                Predicted Lateral Anomaly Status x(i)  \n",
       "Lateral_ID (i)                                         \n",
       "12                                                0.0  \n",
       "15                                                0.0  \n",
       "24                                                0.0  \n",
       "25                                                2.0  \n",
       "42                                                0.0  \n",
       "...                                               ...  \n",
       "2472                                              2.0  \n",
       "2476                                              0.0  \n",
       "2482                                              2.0  \n",
       "2487                                              2.0  \n",
       "2495                                              0.0  \n",
       "\n",
       "[500 rows x 5 columns]"
      ]
     },
     "execution_count": 273,
     "metadata": {},
     "output_type": "execute_result"
    }
   ],
   "source": [
    "X_te32"
   ]
  },
  {
   "cell_type": "code",
   "execution_count": 274,
   "id": "035eb676-f628-4508-a393-08f24283649f",
   "metadata": {},
   "outputs": [],
   "source": [
    "# use an odd number of trees to prevent predictions of 0.5\n",
    "rf32 = RandomForestRegressor(n_estimators=11)\n"
   ]
  },
  {
   "cell_type": "code",
   "execution_count": 275,
   "id": "b950e6c9-75d7-4932-93f2-b5a7fc48e17e",
   "metadata": {},
   "outputs": [
    {
     "data": {
      "text/plain": [
       "RandomForestRegressor(n_estimators=11)"
      ]
     },
     "execution_count": 275,
     "metadata": {},
     "output_type": "execute_result"
    }
   ],
   "source": [
    "rf32.fit(X_tr32, y_tr32)\n"
   ]
  },
  {
   "cell_type": "code",
   "execution_count": 276,
   "id": "a57969c0-ebb6-445f-990d-82de4625af8a",
   "metadata": {},
   "outputs": [],
   "source": [
    "y_pred32 = rf32.predict(X_te32)"
   ]
  },
  {
   "cell_type": "code",
   "execution_count": 277,
   "id": "1bb3f519-f965-4521-ae62-42f4665130c7",
   "metadata": {},
   "outputs": [
    {
     "data": {
      "text/plain": [
       "0.8149353067575444"
      ]
     },
     "execution_count": 277,
     "metadata": {},
     "output_type": "execute_result"
    }
   ],
   "source": [
    "r2_score(y_te32, y_pred32)"
   ]
  },
  {
   "cell_type": "code",
   "execution_count": 278,
   "id": "0412ac01-3762-43ef-8d4e-f634f3696b74",
   "metadata": {},
   "outputs": [],
   "source": [
    "dfff = pd.DataFrame({\n",
    "    'ID': tedf.index,\n",
    "    'true s(i)': y_te32,\n",
    "    'predicted s(i)': y_pred32,\n",
    "})"
   ]
  },
  {
   "cell_type": "code",
   "execution_count": 279,
   "id": "2aa8022b-4bf1-4db8-9644-755898104f91",
   "metadata": {},
   "outputs": [],
   "source": [
    "dfff.set_index('ID', inplace = True)"
   ]
  },
  {
   "cell_type": "code",
   "execution_count": 280,
   "id": "73bbcd07-0f0f-4d68-9741-e6d22694748c",
   "metadata": {},
   "outputs": [
    {
     "data": {
      "text/plain": [
       "array([[<AxesSubplot:title={'center':'true s(i)'}>,\n",
       "        <AxesSubplot:title={'center':'predicted s(i)'}>]], dtype=object)"
      ]
     },
     "execution_count": 280,
     "metadata": {},
     "output_type": "execute_result"
    },
    {
     "data": {
      "image/png": "[encoded data removed]",
      "text/plain": [
       "<Figure size 432x288 with 2 Axes>"
      ]
     },
     "metadata": {
      "needs_background": "light"
     },
     "output_type": "display_data"
    }
   ],
   "source": [
    "dfff.hist()"
   ]
  },
  {
   "cell_type": "code",
   "execution_count": 281,
   "id": "a5ab4df3-c1e6-4d2e-b02d-45ef7daf2286",
   "metadata": {},
   "outputs": [
    {
     "data": {
      "text/plain": [
       "0.02134514765185125"
      ]
     },
     "execution_count": 281,
     "metadata": {},
     "output_type": "execute_result"
    }
   ],
   "source": [
    "mean_squared_error(y_te32, y_pred32)"
   ]
  },
  {
   "cell_type": "code",
   "execution_count": 282,
   "id": "eac07dc1-8dfc-4b06-9bda-a07311efd4af",
   "metadata": {},
   "outputs": [
    {
     "data": {
      "text/plain": [
       "0.146099786624934"
      ]
     },
     "execution_count": 282,
     "metadata": {},
     "output_type": "execute_result"
    }
   ],
   "source": [
    "#rmse\n",
    "mean_squared_error(y_te32, y_pred32, squared = False)"
   ]
  },
  {
   "cell_type": "markdown",
   "id": "c27ed6d7-0d4a-4c36-92e4-578042402f20",
   "metadata": {},
   "source": [
    "## Cross-validated"
   ]
  },
  {
   "cell_type": "code",
   "execution_count": 283,
   "id": "bf43f809-541e-4ea0-a341-94ed8e9ca15b",
   "metadata": {},
   "outputs": [],
   "source": [
    "# Use the random grid to search for best hyperparameters\n",
    "# First create the base model to tune\n",
    "rf = RandomForestRegressor()\n",
    "# Random search of parameters, using 3 fold cross validation, \n",
    "# search across 100 different combinations, and use all available cores\n",
    "rf_random = RandomizedSearchCV(estimator = rf, param_distributions = random_grid, n_iter = 100, cv = 3, verbose=2, random_state=42, n_jobs = -1)"
   ]
  },
  {
   "cell_type": "code",
   "execution_count": 284,
   "id": "a6afdce8-e1e6-4928-ba95-659acc1a0d71",
   "metadata": {},
   "outputs": [
    {
     "name": "stdout",
     "output_type": "stream",
     "text": [
      "Fitting 3 folds for each of 100 candidates, totalling 300 fits\n",
      "Wall time: 6min 10s\n"
     ]
    },
    {
     "data": {
      "text/plain": [
       "RandomizedSearchCV(cv=3, estimator=RandomForestRegressor(), n_iter=100,\n",
       "                   n_jobs=-1,\n",
       "                   param_distributions={'bootstrap': [True, False],\n",
       "                                        'max_depth': [10, 20, 30, 40, 50, 60,\n",
       "                                                      70, 80, 90, 100, 110,\n",
       "                                                      None],\n",
       "                                        'max_features': ['auto', 'sqrt'],\n",
       "                                        'min_samples_leaf': [1, 2, 4],\n",
       "                                        'min_samples_split': [2, 5, 10],\n",
       "                                        'n_estimators': [200, 400, 600, 800,\n",
       "                                                         1000, 1200, 1400, 1600,\n",
       "                                                         1800, 2000]},\n",
       "                   random_state=42, verbose=2)"
      ]
     },
     "execution_count": 284,
     "metadata": {},
     "output_type": "execute_result"
    }
   ],
   "source": [
    "%%time\n",
    "# Fit the random search model\n",
    "rf_random.fit(X_tr32, y_tr32)"
   ]
  },
  {
   "cell_type": "code",
   "execution_count": 285,
   "id": "122ccee2-9a46-4236-84dc-ef4486aa15aa",
   "metadata": {},
   "outputs": [
    {
     "data": {
      "text/plain": [
       "{'n_estimators': 1600,\n",
       " 'min_samples_split': 10,\n",
       " 'min_samples_leaf': 1,\n",
       " 'max_features': 'sqrt',\n",
       " 'max_depth': 20,\n",
       " 'bootstrap': True}"
      ]
     },
     "execution_count": 285,
     "metadata": {},
     "output_type": "execute_result"
    }
   ],
   "source": [
    "rf_random.best_params_"
   ]
  },
  {
   "cell_type": "code",
   "execution_count": 286,
   "id": "98adc2ac-62b8-4e64-845c-9c50fc57a4f3",
   "metadata": {},
   "outputs": [],
   "source": [
    "best_random = rf_random.best_estimator_"
   ]
  },
  {
   "cell_type": "code",
   "execution_count": 287,
   "id": "9d927d50-e2a3-4f24-a028-593299c358af",
   "metadata": {},
   "outputs": [],
   "source": [
    "y_predr32 = best_random.predict(X_te32)"
   ]
  },
  {
   "cell_type": "code",
   "execution_count": 288,
   "id": "855f5c3d-8f32-4de7-b843-3f885e6debac",
   "metadata": {},
   "outputs": [
    {
     "data": {
      "text/plain": [
       "0.8463067090006695"
      ]
     },
     "execution_count": 288,
     "metadata": {},
     "output_type": "execute_result"
    }
   ],
   "source": [
    "r2_score(y_te32, y_predr32)"
   ]
  },
  {
   "cell_type": "code",
   "execution_count": 289,
   "id": "f13d2d54-64bc-41e6-94fd-acd3a3ef58d1",
   "metadata": {},
   "outputs": [],
   "source": [
    "dfff = pd.DataFrame({\n",
    "    'ID': tedf.index,\n",
    "    'true s(i)': y_te32,\n",
    "    'predicted s(i)': y_predr32,\n",
    "})"
   ]
  },
  {
   "cell_type": "code",
   "execution_count": 290,
   "id": "9eb9bb5d-9820-4b2b-b5ca-60cc53b8702c",
   "metadata": {},
   "outputs": [],
   "source": [
    "dfff.set_index('ID', inplace = True)"
   ]
  },
  {
   "cell_type": "code",
   "execution_count": 291,
   "id": "60355c99-4f5e-4b1e-94a4-c62437f5767a",
   "metadata": {},
   "outputs": [
    {
     "data": {
      "text/plain": [
       "array([[<AxesSubplot:title={'center':'true s(i)'}>,\n",
       "        <AxesSubplot:title={'center':'predicted s(i)'}>]], dtype=object)"
      ]
     },
     "execution_count": 291,
     "metadata": {},
     "output_type": "execute_result"
    },
    {
     "data": {
      "image/png": "[encoded data removed]",
      "text/plain": [
       "<Figure size 432x288 with 2 Axes>"
      ]
     },
     "metadata": {
      "needs_background": "light"
     },
     "output_type": "display_data"
    }
   ],
   "source": [
    "dfff.hist()"
   ]
  },
  {
   "cell_type": "code",
   "execution_count": 292,
   "id": "05ac5c2b-f7a2-4faa-94b8-fb3acb1ce114",
   "metadata": {},
   "outputs": [
    {
     "data": {
      "text/plain": [
       "0.017726806404837512"
      ]
     },
     "execution_count": 292,
     "metadata": {},
     "output_type": "execute_result"
    }
   ],
   "source": [
    "mean_squared_error(y_te32, y_predr32)"
   ]
  },
  {
   "cell_type": "code",
   "execution_count": 293,
   "id": "0c7eae1f-97dd-4ab2-9c7f-4266d97d2093",
   "metadata": {},
   "outputs": [
    {
     "data": {
      "text/plain": [
       "0.13314205347987357"
      ]
     },
     "execution_count": 293,
     "metadata": {},
     "output_type": "execute_result"
    }
   ],
   "source": [
    "#rmse\n",
    "mean_squared_error(y_te32, y_predr32, squared = False)"
   ]
  },
  {
   "cell_type": "markdown",
   "id": "1e9a9f06-bcda-4969-82e0-7ca7a7fd7c0e",
   "metadata": {},
   "source": [
    "- # Keep this on hold!\n",
    "- # Use grid search cv"
   ]
  },
  {
   "cell_type": "code",
   "execution_count": null,
   "id": "328d978d-d484-4834-a84c-7f72d24f0f94",
   "metadata": {},
   "outputs": [],
   "source": []
  },
  {
   "cell_type": "code",
   "execution_count": null,
   "id": "f9a0af50-592f-43c2-b0e2-019af83663f5",
   "metadata": {},
   "outputs": [],
   "source": []
  },
  {
   "cell_type": "markdown",
   "id": "76b46e47-8219-4e9f-8fdc-222b2d26a175",
   "metadata": {},
   "source": [
    "--------------\n",
    "--------------\n",
    "## 4) Model : Poisson Modelling for s(i)"
   ]
  },
  {
   "cell_type": "code",
   "execution_count": 294,
   "id": "2c829ed1-6468-4b90-8064-d3114ff739ec",
   "metadata": {},
   "outputs": [],
   "source": [
    " X_tr1_2 =   sm.add_constant(X_tr)"
   ]
  },
  {
   "cell_type": "code",
   "execution_count": 295,
   "id": "39faba3c-092e-4753-b88c-ed41a7ea5379",
   "metadata": {},
   "outputs": [
    {
     "data": {
      "text/plain": [
       "(2000, 5)"
      ]
     },
     "execution_count": 295,
     "metadata": {},
     "output_type": "execute_result"
    }
   ],
   "source": [
    "np.shape(X_tr1_2)"
   ]
  },
  {
   "cell_type": "code",
   "execution_count": 296,
   "id": "63c9b8ad-8cc1-49eb-b21c-54203d595cf3",
   "metadata": {},
   "outputs": [],
   "source": [
    "poisson_training_results = sm.GLM(y_tr[:,0], X_tr1_2, family=sm.families.Poisson()).fit()"
   ]
  },
  {
   "cell_type": "code",
   "execution_count": 297,
   "id": "b2ae97c0-733c-4fb8-a5bd-b0f7d6959358",
   "metadata": {},
   "outputs": [
    {
     "name": "stdout",
     "output_type": "stream",
     "text": [
      "                 Generalized Linear Model Regression Results                  \n",
      "==============================================================================\n",
      "Dep. Variable:                      y   No. Observations:                 2000\n",
      "Model:                            GLM   Df Residuals:                     1996\n",
      "Model Family:                 Poisson   Df Model:                            3\n",
      "Link Function:                    Log   Scale:                          1.0000\n",
      "Method:                          IRLS   Log-Likelihood:                -1084.9\n",
      "Date:                Fri, 08 Apr 2022   Deviance:                       737.21\n",
      "Time:                        17:03:44   Pearson chi2:                     733.\n",
      "No. Iterations:                     6   Pseudo R-squ. (CS):            0.09190\n",
      "Covariance Type:            nonrobust                                         \n",
      "==============================================================================\n",
      "                 coef    std err          z      P>|z|      [0.025      0.975]\n",
      "------------------------------------------------------------------------------\n",
      "const         -1.6152      0.052    -30.791      0.000      -1.718      -1.512\n",
      "x1         -7.332e-17   6.95e-17     -1.054      0.292    -2.1e-16     6.3e-17\n",
      "x2            -0.0063      0.011     -0.552      0.581      -0.028       0.016\n",
      "x3             0.0084      0.005      1.767      0.077      -0.001       0.018\n",
      "x4             0.0269      0.004      6.976      0.000       0.019       0.035\n",
      "==============================================================================\n"
     ]
    }
   ],
   "source": [
    "print(poisson_training_results.summary())"
   ]
  },
  {
   "cell_type": "code",
   "execution_count": 298,
   "id": "4849c795-6f86-4e26-853c-e09943688b48",
   "metadata": {},
   "outputs": [],
   "source": [
    " X_te1_2 =   sm.add_constant(X_te)"
   ]
  },
  {
   "cell_type": "code",
   "execution_count": 299,
   "id": "ce68770d-8778-48b3-a4ca-4f981101a8e7",
   "metadata": {},
   "outputs": [],
   "source": [
    "poisson_predictions = poisson_training_results.get_prediction(X_te1_2)"
   ]
  },
  {
   "cell_type": "code",
   "execution_count": 300,
   "id": "4fc443c8-9546-4690-a6f6-e3baf0feef0e",
   "metadata": {},
   "outputs": [],
   "source": [
    "#summary_frame() returns a pandas DataFrame\n",
    "predictions_summary_frame = poisson_predictions.summary_frame()"
   ]
  },
  {
   "cell_type": "code",
   "execution_count": 301,
   "id": "763681ed-0e3a-47d0-952e-0cd2f36334f3",
   "metadata": {},
   "outputs": [
    {
     "data": {
      "text/html": [
       "<div>\n",
       "<style scoped>\n",
       "    .dataframe tbody tr th:only-of-type {\n",
       "        vertical-align: middle;\n",
       "    }\n",
       "\n",
       "    .dataframe tbody tr th {\n",
       "        vertical-align: top;\n",
       "    }\n",
       "\n",
       "    .dataframe thead th {\n",
       "        text-align: right;\n",
       "    }\n",
       "</style>\n",
       "<table border=\"1\" class=\"dataframe\">\n",
       "  <thead>\n",
       "    <tr style=\"text-align: right;\">\n",
       "      <th></th>\n",
       "      <th>mean</th>\n",
       "      <th>mean_se</th>\n",
       "      <th>mean_ci_lower</th>\n",
       "      <th>mean_ci_upper</th>\n",
       "    </tr>\n",
       "  </thead>\n",
       "  <tbody>\n",
       "    <tr>\n",
       "      <th>0</th>\n",
       "      <td>0.198849</td>\n",
       "      <td>0.010431</td>\n",
       "      <td>0.179421</td>\n",
       "      <td>0.220382</td>\n",
       "    </tr>\n",
       "    <tr>\n",
       "      <th>1</th>\n",
       "      <td>0.198849</td>\n",
       "      <td>0.010431</td>\n",
       "      <td>0.179421</td>\n",
       "      <td>0.220382</td>\n",
       "    </tr>\n",
       "    <tr>\n",
       "      <th>2</th>\n",
       "      <td>0.198849</td>\n",
       "      <td>0.010431</td>\n",
       "      <td>0.179421</td>\n",
       "      <td>0.220382</td>\n",
       "    </tr>\n",
       "    <tr>\n",
       "      <th>3</th>\n",
       "      <td>0.282793</td>\n",
       "      <td>0.016380</td>\n",
       "      <td>0.252444</td>\n",
       "      <td>0.316789</td>\n",
       "    </tr>\n",
       "    <tr>\n",
       "      <th>4</th>\n",
       "      <td>0.198849</td>\n",
       "      <td>0.010431</td>\n",
       "      <td>0.179421</td>\n",
       "      <td>0.220382</td>\n",
       "    </tr>\n",
       "    <tr>\n",
       "      <th>...</th>\n",
       "      <td>...</td>\n",
       "      <td>...</td>\n",
       "      <td>...</td>\n",
       "      <td>...</td>\n",
       "    </tr>\n",
       "    <tr>\n",
       "      <th>495</th>\n",
       "      <td>2.092848</td>\n",
       "      <td>0.278871</td>\n",
       "      <td>1.611817</td>\n",
       "      <td>2.717439</td>\n",
       "    </tr>\n",
       "    <tr>\n",
       "      <th>496</th>\n",
       "      <td>0.198849</td>\n",
       "      <td>0.010431</td>\n",
       "      <td>0.179421</td>\n",
       "      <td>0.220382</td>\n",
       "    </tr>\n",
       "    <tr>\n",
       "      <th>497</th>\n",
       "      <td>1.917017</td>\n",
       "      <td>0.224254</td>\n",
       "      <td>1.524235</td>\n",
       "      <td>2.411017</td>\n",
       "    </tr>\n",
       "    <tr>\n",
       "      <th>498</th>\n",
       "      <td>0.269368</td>\n",
       "      <td>0.013169</td>\n",
       "      <td>0.244756</td>\n",
       "      <td>0.296456</td>\n",
       "    </tr>\n",
       "    <tr>\n",
       "      <th>499</th>\n",
       "      <td>0.198849</td>\n",
       "      <td>0.010431</td>\n",
       "      <td>0.179421</td>\n",
       "      <td>0.220382</td>\n",
       "    </tr>\n",
       "  </tbody>\n",
       "</table>\n",
       "<p>500 rows × 4 columns</p>\n",
       "</div>"
      ],
      "text/plain": [
       "         mean   mean_se  mean_ci_lower  mean_ci_upper\n",
       "0    0.198849  0.010431       0.179421       0.220382\n",
       "1    0.198849  0.010431       0.179421       0.220382\n",
       "2    0.198849  0.010431       0.179421       0.220382\n",
       "3    0.282793  0.016380       0.252444       0.316789\n",
       "4    0.198849  0.010431       0.179421       0.220382\n",
       "..        ...       ...            ...            ...\n",
       "495  2.092848  0.278871       1.611817       2.717439\n",
       "496  0.198849  0.010431       0.179421       0.220382\n",
       "497  1.917017  0.224254       1.524235       2.411017\n",
       "498  0.269368  0.013169       0.244756       0.296456\n",
       "499  0.198849  0.010431       0.179421       0.220382\n",
       "\n",
       "[500 rows x 4 columns]"
      ]
     },
     "execution_count": 301,
     "metadata": {},
     "output_type": "execute_result"
    }
   ],
   "source": [
    "predictions_summary_frame"
   ]
  },
  {
   "cell_type": "code",
   "execution_count": 302,
   "id": "039a7375-7e0f-40af-8372-646ede78da7c",
   "metadata": {},
   "outputs": [
    {
     "data": {
      "text/plain": [
       "0.16907483067388007"
      ]
     },
     "execution_count": 302,
     "metadata": {},
     "output_type": "execute_result"
    }
   ],
   "source": [
    "r2_score(y_te[:,0], predictions_summary_frame['mean']) "
   ]
  },
  {
   "cell_type": "code",
   "execution_count": 303,
   "id": "e53b6544-e2eb-4a73-a9a1-89bb258ab0e6",
   "metadata": {},
   "outputs": [],
   "source": [
    "dfff = pd.DataFrame({\n",
    "    'ID': tedf.index,\n",
    "    'true s(i)': y_te[:,0],\n",
    "    'predicted s(i)': predictions_summary_frame['mean']\n",
    "})"
   ]
  },
  {
   "cell_type": "code",
   "execution_count": 304,
   "id": "c099d622-5e9d-449a-9c7f-1bd5f94b9762",
   "metadata": {},
   "outputs": [],
   "source": [
    "dfff.set_index('ID', inplace = True)"
   ]
  },
  {
   "cell_type": "code",
   "execution_count": 305,
   "id": "7f03705c-07b7-47c6-b03d-aa96f65792c3",
   "metadata": {},
   "outputs": [
    {
     "data": {
      "text/plain": [
       "array([[<AxesSubplot:title={'center':'true s(i)'}>,\n",
       "        <AxesSubplot:title={'center':'predicted s(i)'}>]], dtype=object)"
      ]
     },
     "execution_count": 305,
     "metadata": {},
     "output_type": "execute_result"
    },
    {
     "data": {
      "image/png": "[encoded data removed]",
      "text/plain": [
       "<Figure size 432x288 with 2 Axes>"
      ]
     },
     "metadata": {
      "needs_background": "light"
     },
     "output_type": "display_data"
    }
   ],
   "source": [
    "dfff.hist()"
   ]
  },
  {
   "cell_type": "code",
   "execution_count": 306,
   "id": "61d04529-e750-4b11-abc6-6b43227ea8f5",
   "metadata": {},
   "outputs": [
    {
     "data": {
      "text/plain": [
       "0.16907483067388007"
      ]
     },
     "execution_count": 306,
     "metadata": {},
     "output_type": "execute_result"
    }
   ],
   "source": [
    "r2_score(dfff['true s(i)'], dfff['predicted s(i)'])"
   ]
  },
  {
   "cell_type": "code",
   "execution_count": null,
   "id": "524a37be-ea8f-469b-bfd7-805f968ec12b",
   "metadata": {},
   "outputs": [],
   "source": []
  },
  {
   "cell_type": "markdown",
   "id": "98c6c4de-4e21-43e0-824d-a2d0eea08cdb",
   "metadata": {},
   "source": [
    "## Negative Binomial Modelling:\n",
    "- sample the normalized values"
   ]
  },
  {
   "cell_type": "code",
   "execution_count": 307,
   "id": "2183200b-bd6e-4285-b53f-d9a30a4b5449",
   "metadata": {},
   "outputs": [],
   "source": [
    "nb_training_results = sm.GLM(y_tr[:,0], X_tr1_2, family=sm.families.NegativeBinomial()).fit()"
   ]
  },
  {
   "cell_type": "code",
   "execution_count": 308,
   "id": "d2a39ee2-af49-43f8-924f-b20544ce50b2",
   "metadata": {},
   "outputs": [
    {
     "name": "stdout",
     "output_type": "stream",
     "text": [
      "                 Generalized Linear Model Regression Results                  \n",
      "==============================================================================\n",
      "Dep. Variable:                      y   No. Observations:                 2000\n",
      "Model:                            GLM   Df Residuals:                     1996\n",
      "Model Family:        NegativeBinomial   Df Model:                            3\n",
      "Link Function:                    Log   Scale:                          1.0000\n",
      "Method:                          IRLS   Log-Likelihood:                -1250.6\n",
      "Date:                Fri, 08 Apr 2022   Deviance:                       595.57\n",
      "Time:                        17:03:57   Pearson chi2:                     601.\n",
      "No. Iterations:                    11   Pseudo R-squ. (CS):            0.07688\n",
      "Covariance Type:            nonrobust                                         \n",
      "==============================================================================\n",
      "                 coef    std err          z      P>|z|      [0.025      0.975]\n",
      "------------------------------------------------------------------------------\n",
      "const         -1.6875      0.060    -28.125      0.000      -1.805      -1.570\n",
      "x1          2.437e-15   8.66e-17     28.121      0.000    2.27e-15    2.61e-15\n",
      "x2            -0.0184      0.015     -1.206      0.228      -0.048       0.012\n",
      "x3             0.0160      0.006      2.530      0.011       0.004       0.028\n",
      "x4             0.0325      0.005      6.538      0.000       0.023       0.042\n",
      "==============================================================================\n"
     ]
    }
   ],
   "source": [
    "print(nb_training_results.summary())"
   ]
  },
  {
   "cell_type": "code",
   "execution_count": 309,
   "id": "85ffc937-1dab-492c-bbc0-cbe289fd5d46",
   "metadata": {},
   "outputs": [],
   "source": [
    "nb_predictions = nb_training_results.get_prediction(X_te1_2)"
   ]
  },
  {
   "cell_type": "code",
   "execution_count": 310,
   "id": "a07328fa-f068-4c66-8c84-07bc81142310",
   "metadata": {},
   "outputs": [],
   "source": [
    "#summary_frame() returns a pandas DataFrame\n",
    "predictions_summary_frame = nb_predictions.summary_frame()"
   ]
  },
  {
   "cell_type": "code",
   "execution_count": 311,
   "id": "36f27a92-db15-4790-b5f6-7c53ba5d4ac8",
   "metadata": {},
   "outputs": [
    {
     "data": {
      "text/html": [
       "<div>\n",
       "<style scoped>\n",
       "    .dataframe tbody tr th:only-of-type {\n",
       "        vertical-align: middle;\n",
       "    }\n",
       "\n",
       "    .dataframe tbody tr th {\n",
       "        vertical-align: top;\n",
       "    }\n",
       "\n",
       "    .dataframe thead th {\n",
       "        text-align: right;\n",
       "    }\n",
       "</style>\n",
       "<table border=\"1\" class=\"dataframe\">\n",
       "  <thead>\n",
       "    <tr style=\"text-align: right;\">\n",
       "      <th></th>\n",
       "      <th>mean</th>\n",
       "      <th>mean_se</th>\n",
       "      <th>mean_ci_lower</th>\n",
       "      <th>mean_ci_upper</th>\n",
       "    </tr>\n",
       "  </thead>\n",
       "  <tbody>\n",
       "    <tr>\n",
       "      <th>0</th>\n",
       "      <td>0.184973</td>\n",
       "      <td>0.011099</td>\n",
       "      <td>0.164451</td>\n",
       "      <td>0.208057</td>\n",
       "    </tr>\n",
       "    <tr>\n",
       "      <th>1</th>\n",
       "      <td>0.184973</td>\n",
       "      <td>0.011099</td>\n",
       "      <td>0.164451</td>\n",
       "      <td>0.208057</td>\n",
       "    </tr>\n",
       "    <tr>\n",
       "      <th>2</th>\n",
       "      <td>0.184973</td>\n",
       "      <td>0.011099</td>\n",
       "      <td>0.164451</td>\n",
       "      <td>0.208057</td>\n",
       "    </tr>\n",
       "    <tr>\n",
       "      <th>3</th>\n",
       "      <td>0.270812</td>\n",
       "      <td>0.019621</td>\n",
       "      <td>0.234961</td>\n",
       "      <td>0.312132</td>\n",
       "    </tr>\n",
       "    <tr>\n",
       "      <th>4</th>\n",
       "      <td>0.184973</td>\n",
       "      <td>0.011099</td>\n",
       "      <td>0.164451</td>\n",
       "      <td>0.208057</td>\n",
       "    </tr>\n",
       "    <tr>\n",
       "      <th>...</th>\n",
       "      <td>...</td>\n",
       "      <td>...</td>\n",
       "      <td>...</td>\n",
       "      <td>...</td>\n",
       "    </tr>\n",
       "    <tr>\n",
       "      <th>495</th>\n",
       "      <td>3.419126</td>\n",
       "      <td>0.635806</td>\n",
       "      <td>2.374812</td>\n",
       "      <td>4.922673</td>\n",
       "    </tr>\n",
       "    <tr>\n",
       "      <th>496</th>\n",
       "      <td>0.184973</td>\n",
       "      <td>0.011099</td>\n",
       "      <td>0.164451</td>\n",
       "      <td>0.208057</td>\n",
       "    </tr>\n",
       "    <tr>\n",
       "      <th>497</th>\n",
       "      <td>3.082723</td>\n",
       "      <td>0.515828</td>\n",
       "      <td>2.220773</td>\n",
       "      <td>4.279224</td>\n",
       "    </tr>\n",
       "    <tr>\n",
       "      <th>498</th>\n",
       "      <td>0.276608</td>\n",
       "      <td>0.015900</td>\n",
       "      <td>0.247137</td>\n",
       "      <td>0.309594</td>\n",
       "    </tr>\n",
       "    <tr>\n",
       "      <th>499</th>\n",
       "      <td>0.184973</td>\n",
       "      <td>0.011099</td>\n",
       "      <td>0.164451</td>\n",
       "      <td>0.208057</td>\n",
       "    </tr>\n",
       "  </tbody>\n",
       "</table>\n",
       "<p>500 rows × 4 columns</p>\n",
       "</div>"
      ],
      "text/plain": [
       "         mean   mean_se  mean_ci_lower  mean_ci_upper\n",
       "0    0.184973  0.011099       0.164451       0.208057\n",
       "1    0.184973  0.011099       0.164451       0.208057\n",
       "2    0.184973  0.011099       0.164451       0.208057\n",
       "3    0.270812  0.019621       0.234961       0.312132\n",
       "4    0.184973  0.011099       0.164451       0.208057\n",
       "..        ...       ...            ...            ...\n",
       "495  3.419126  0.635806       2.374812       4.922673\n",
       "496  0.184973  0.011099       0.164451       0.208057\n",
       "497  3.082723  0.515828       2.220773       4.279224\n",
       "498  0.276608  0.015900       0.247137       0.309594\n",
       "499  0.184973  0.011099       0.164451       0.208057\n",
       "\n",
       "[500 rows x 4 columns]"
      ]
     },
     "execution_count": 311,
     "metadata": {},
     "output_type": "execute_result"
    }
   ],
   "source": [
    "predictions_summary_frame"
   ]
  },
  {
   "cell_type": "code",
   "execution_count": 312,
   "id": "50e40d7e-c70d-4851-bbe2-8ae90f4e3e6b",
   "metadata": {},
   "outputs": [
    {
     "data": {
      "text/plain": [
       "-0.30565687880105785"
      ]
     },
     "execution_count": 312,
     "metadata": {},
     "output_type": "execute_result"
    }
   ],
   "source": [
    "r2_score(y_te[:,0], predictions_summary_frame['mean'])"
   ]
  },
  {
   "cell_type": "code",
   "execution_count": 313,
   "id": "cbd5f37d-ca79-4362-915a-babcb4928271",
   "metadata": {},
   "outputs": [],
   "source": [
    "dfff = pd.DataFrame({\n",
    "    'ID': tedf.index,\n",
    "    's(i)': y_te[:,0],\n",
    "    'predicted s(i)': predictions_summary_frame['mean']\n",
    "})"
   ]
  },
  {
   "cell_type": "code",
   "execution_count": 314,
   "id": "909761d5-9450-4d75-a55d-f78bad9deb95",
   "metadata": {},
   "outputs": [],
   "source": [
    "dfff.set_index('ID', inplace = True)"
   ]
  },
  {
   "cell_type": "code",
   "execution_count": 315,
   "id": "047ed441-a466-4809-8b6d-5218dfda1f4b",
   "metadata": {},
   "outputs": [
    {
     "data": {
      "text/plain": [
       "array([[<AxesSubplot:title={'center':'s(i)'}>,\n",
       "        <AxesSubplot:title={'center':'predicted s(i)'}>]], dtype=object)"
      ]
     },
     "execution_count": 315,
     "metadata": {},
     "output_type": "execute_result"
    },
    {
     "data": {
      "image/png": "[encoded data removed]",
      "text/plain": [
       "<Figure size 432x288 with 2 Axes>"
      ]
     },
     "metadata": {
      "needs_background": "light"
     },
     "output_type": "display_data"
    }
   ],
   "source": [
    "dfff.hist()"
   ]
  },
  {
   "cell_type": "code",
   "execution_count": 316,
   "id": "0adbc67c-be1e-4be6-acb0-9cfadcb4df9b",
   "metadata": {},
   "outputs": [
    {
     "data": {
      "text/plain": [
       "-0.30565687880105785"
      ]
     },
     "execution_count": 316,
     "metadata": {},
     "output_type": "execute_result"
    }
   ],
   "source": [
    "r2_score(dfff['s(i)'], dfff['predicted s(i)'])"
   ]
  },
  {
   "cell_type": "code",
   "execution_count": null,
   "id": "5e89e13c-fdfe-4904-91a8-d4f8ce969994",
   "metadata": {},
   "outputs": [],
   "source": []
  },
  {
   "cell_type": "code",
   "execution_count": null,
   "id": "77508685-4fd5-4654-be1f-f924d984021d",
   "metadata": {},
   "outputs": [],
   "source": []
  },
  {
   "cell_type": "code",
   "execution_count": null,
   "id": "8d3cd6a7-8a4a-4594-b9e6-a47b14bcb3ba",
   "metadata": {},
   "outputs": [],
   "source": []
  },
  {
   "cell_type": "markdown",
   "id": "6a4bd323-2aba-4508-9f34-12dbdac4e929",
   "metadata": {},
   "source": [
    "## Conclusions:\n",
    "\n",
    "- x(i): Use random search, cross-validated, RF classifier on original ~y(i)(j)'s\n",
    "- s(i): Use random search, cross-validated, RF regressor on normalised N~y(i)(j)'s"
   ]
  },
  {
   "cell_type": "markdown",
   "id": "d5690387-80aa-4269-8290-2321c95a90a8",
   "metadata": {
    "tags": []
   },
   "source": [
    "## Try:\n",
    "- NN"
   ]
  },
  {
   "cell_type": "code",
   "execution_count": null,
   "id": "60ed8ca8-7ef3-48b6-81e6-b4b1403b1b47",
   "metadata": {},
   "outputs": [],
   "source": []
  },
  {
   "cell_type": "code",
   "execution_count": null,
   "id": "f8ca369b",
   "metadata": {},
   "outputs": [],
   "source": []
  },
  {
   "cell_type": "code",
   "execution_count": null,
   "id": "a5736783",
   "metadata": {},
   "outputs": [],
   "source": []
  }
 ],
 "metadata": {
  "kernelspec": {
   "display_name": "Python 3 (ipykernel)",
   "language": "python",
   "name": "python3"
  },
  "language_info": {
   "codemirror_mode": {
    "name": "ipython",
    "version": 3
   },
   "file_extension": ".py",
   "mimetype": "text/x-python",
   "name": "python",
   "nbconvert_exporter": "python",
   "pygments_lexer": "ipython3",
   "version": "3.10.4"
  }
 },
 "nbformat": 4,
 "nbformat_minor": 5
}
